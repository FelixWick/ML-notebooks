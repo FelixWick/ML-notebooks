{
 "cells": [
  {
   "cell_type": "code",
   "execution_count": 1,
   "id": "1653bb59",
   "metadata": {},
   "outputs": [],
   "source": [
    "import pandas as pd\n",
    "import numpy as np\n",
    "import cv2\n",
    "import os\n",
    "import torch\n",
    "from torch import nn\n",
    "import matplotlib.pyplot as plt\n",
    "from sklearn.metrics import accuracy_score, log_loss"
   ]
  },
  {
   "cell_type": "code",
   "execution_count": 2,
   "id": "d4756ce8",
   "metadata": {},
   "outputs": [
    {
     "data": {
      "text/plain": [
       "device(type='cuda', index=0)"
      ]
     },
     "execution_count": 2,
     "metadata": {},
     "output_type": "execute_result"
    }
   ],
   "source": [
    "if torch.cuda.is_available():\n",
    "    dev = \"cuda:0\"\n",
    "else:\n",
    "    dev = \"cpu\"\n",
    "device = torch.device(dev)\n",
    "device"
   ]
  },
  {
   "cell_type": "code",
   "execution_count": 3,
   "id": "22a12d39",
   "metadata": {},
   "outputs": [],
   "source": [
    "df_train = pd.read_csv(\"leaf-classification/train.csv\")\n",
    "df_test = pd.read_csv(\"leaf-classification/test.csv\")"
   ]
  },
  {
   "cell_type": "code",
   "execution_count": 4,
   "id": "7be20a78",
   "metadata": {},
   "outputs": [],
   "source": [
    "train_features_tensor = torch.tensor(df_train.drop(columns=[\"id\", \"species\"]).values).to(dtype=torch.float32).to(device)\n",
    "test_features_tensor = torch.tensor(df_test.drop(columns=[\"id\"]).values).to(dtype=torch.float32).to(device)"
   ]
  },
  {
   "cell_type": "code",
   "execution_count": 5,
   "id": "324c1fb4",
   "metadata": {},
   "outputs": [],
   "source": [
    "def zero_pad_image(img, target_height, target_width):\n",
    "    height, width = img.shape[:2]\n",
    "    pad_bottom = max(0, target_height - height)\n",
    "    pad_right = max(0, target_width - width)\n",
    "    return cv2.copyMakeBorder(img, 0, pad_bottom, 0, pad_right, borderType=cv2.BORDER_CONSTANT, value=0)"
   ]
  },
  {
   "cell_type": "code",
   "execution_count": 6,
   "id": "2e3aed1b",
   "metadata": {},
   "outputs": [],
   "source": [
    "max_height = 0\n",
    "max_width = 0\n",
    "folder = \"leaf-classification/images/\"\n",
    "for filename in os.listdir(folder):\n",
    "    img = cv2.imread(os.path.join(folder, filename), 0)\n",
    "    height, width = img.shape[:2]\n",
    "    if height > max_height:\n",
    "        max_height = height\n",
    "    if width > max_width:\n",
    "        max_width = width"
   ]
  },
  {
   "cell_type": "code",
   "execution_count": 7,
   "id": "6e03c530",
   "metadata": {},
   "outputs": [],
   "source": [
    "height = max_height // 5\n",
    "width = max_width // 5"
   ]
  },
  {
   "cell_type": "code",
   "execution_count": 8,
   "id": "0b614fd0",
   "metadata": {},
   "outputs": [
    {
     "data": {
      "text/plain": [
       "217"
      ]
     },
     "execution_count": 8,
     "metadata": {},
     "output_type": "execute_result"
    }
   ],
   "source": [
    "height"
   ]
  },
  {
   "cell_type": "code",
   "execution_count": 9,
   "id": "d75eaefa",
   "metadata": {},
   "outputs": [
    {
     "data": {
      "text/plain": [
       "341"
      ]
     },
     "execution_count": 9,
     "metadata": {},
     "output_type": "execute_result"
    }
   ],
   "source": [
    "width"
   ]
  },
  {
   "cell_type": "code",
   "execution_count": 10,
   "id": "a324a6ea",
   "metadata": {},
   "outputs": [],
   "source": [
    "df_images_train = np.zeros((1, height, width))\n",
    "for id in df_train[\"id\"]:\n",
    "    img = cv2.imread(\"leaf-classification/images/\" + str(id) + \".jpg\", 0)\n",
    "    img = zero_pad_image(img, max_height, max_width)\n",
    "    img = cv2.resize(img, (width, height), interpolation=cv2.INTER_NEAREST)\n",
    "    df_images_train = np.r_[df_images_train, [img]]\n",
    "df_images_train = np.delete(df_images_train, (0), axis=0)"
   ]
  },
  {
   "cell_type": "code",
   "execution_count": 11,
   "id": "013da70d",
   "metadata": {},
   "outputs": [
    {
     "data": {
      "text/plain": [
       "<matplotlib.image.AxesImage at 0x15543b0b010>"
      ]
     },
     "execution_count": 11,
     "metadata": {},
     "output_type": "execute_result"
    },
    {
     "data": {
      "image/png": "[encoded data removed]",
      "text/plain": [
       "<Figure size 640x480 with 1 Axes>"
      ]
     },
     "metadata": {},
     "output_type": "display_data"
    }
   ],
   "source": [
    "plt.imshow(df_images_train[24], cmap='gray')"
   ]
  },
  {
   "cell_type": "code",
   "execution_count": 12,
   "id": "58480711",
   "metadata": {},
   "outputs": [],
   "source": [
    "df_images_test = np.zeros((1, height, width))\n",
    "for id in df_test[\"id\"]:\n",
    "    img = cv2.imread(\"leaf-classification/images/\" + str(id) + \".jpg\", 0)\n",
    "    img = zero_pad_image(img, max_height, max_width)\n",
    "    img = cv2.resize(img, (width, height), interpolation=cv2.INTER_AREA)\n",
    "    df_images_test = np.r_[df_images_test, [img]]\n",
    "df_images_test = np.delete(df_images_test, (0), axis=0)"
   ]
  },
  {
   "cell_type": "code",
   "execution_count": 13,
   "id": "3d96f4d8",
   "metadata": {},
   "outputs": [],
   "source": [
    "train_images_tensor = torch.tensor(df_images_train).to(dtype=torch.float32).unsqueeze(1).to(device)\n",
    "test_images_tensor = torch.tensor(df_images_test).to(dtype=torch.float32).unsqueeze(1).to(device)"
   ]
  },
  {
   "cell_type": "code",
   "execution_count": 14,
   "id": "78ff232f",
   "metadata": {},
   "outputs": [],
   "source": [
    "species_dict = {}\n",
    "for i, category in enumerate(df_train[\"species\"].unique()):\n",
    "    species_dict[category] = i"
   ]
  },
  {
   "cell_type": "code",
   "execution_count": 15,
   "id": "1cb3e0ba",
   "metadata": {},
   "outputs": [],
   "source": [
    "y = df_train[\"species\"].values\n",
    "y = [species_dict[category] for category in y]"
   ]
  },
  {
   "cell_type": "code",
   "execution_count": 16,
   "id": "6a5022cf",
   "metadata": {},
   "outputs": [],
   "source": [
    "target_tensor = torch.nn.functional.one_hot(torch.tensor(y)).to(dtype=torch.float32).to(device)"
   ]
  },
  {
   "cell_type": "code",
   "execution_count": 17,
   "id": "f4f8d6c4",
   "metadata": {},
   "outputs": [],
   "source": [
    "class CustomDataset(torch.utils.data.Dataset):\n",
    "    def __init__(self, features, images, labels):\n",
    "        self.features = features\n",
    "        self.images = images\n",
    "        self.labels = labels\n",
    "\n",
    "    def __len__(self):\n",
    "        return len(self.features)\n",
    "\n",
    "    def __getitem__(self, idx):\n",
    "        return self.features[idx], self.images[idx], self.labels[idx]"
   ]
  },
  {
   "cell_type": "code",
   "execution_count": 18,
   "id": "6a182a28",
   "metadata": {},
   "outputs": [],
   "source": [
    "train_ds = CustomDataset(train_features_tensor, train_images_tensor, target_tensor)\n",
    "test_ds = CustomDataset(test_features_tensor, test_images_tensor, test_features_tensor)"
   ]
  },
  {
   "cell_type": "code",
   "execution_count": 19,
   "id": "e98a3fad",
   "metadata": {},
   "outputs": [],
   "source": [
    "train_ds, val_ds = torch.utils.data.random_split(train_ds, [0.8, 0.2])"
   ]
  },
  {
   "cell_type": "code",
   "execution_count": 20,
   "id": "f0c6d77d",
   "metadata": {},
   "outputs": [],
   "source": [
    "mini_batch_size = 32"
   ]
  },
  {
   "cell_type": "code",
   "execution_count": 21,
   "id": "b49bca14",
   "metadata": {},
   "outputs": [],
   "source": [
    "train_dl = torch.utils.data.DataLoader(train_ds, batch_size=mini_batch_size, shuffle=True, drop_last=False)\n",
    "valid_dl = torch.utils.data.DataLoader(val_ds, batch_size=mini_batch_size * 2)\n",
    "test_dl = torch.utils.data.DataLoader(test_ds, batch_size=mini_batch_size * 2)"
   ]
  },
  {
   "cell_type": "markdown",
   "id": "3a33c697",
   "metadata": {},
   "source": [
    "pure CNN image model"
   ]
  },
  {
   "cell_type": "code",
   "execution_count": 22,
   "id": "37c435da",
   "metadata": {},
   "outputs": [],
   "source": [
    "class CNN(nn.Module):\n",
    "    def __init__(self):\n",
    "        super().__init__()\n",
    "\n",
    "        self.conv_features = nn.Sequential(\n",
    "            nn.Conv2d(1, 10, kernel_size=3, padding=1),\n",
    "            nn.BatchNorm2d(10),\n",
    "            nn.ReLU(),\n",
    "            nn.MaxPool2d(2), # 217x341 -> 108x170\n",
    "\n",
    "            nn.Conv2d(10, 20, kernel_size=3, padding=1),\n",
    "            nn.BatchNorm2d(20),\n",
    "            nn.ReLU(),\n",
    "            nn.MaxPool2d(2), # 54x85\n",
    "\n",
    "            nn.Conv2d(20, 40, kernel_size=3, padding=1),\n",
    "            nn.BatchNorm2d(40),\n",
    "            nn.ReLU(),\n",
    "            nn.MaxPool2d(2), # 27x42\n",
    "\n",
    "            nn.Conv2d(40, 80, kernel_size=3, padding=1),\n",
    "            nn.BatchNorm2d(80),\n",
    "            nn.ReLU(),\n",
    "            nn.MaxPool2d(2), # 13x21\n",
    "        )\n",
    "\n",
    "        self.global_avg_pool = nn.AdaptiveAvgPool2d((1, 1)) # Output: (batch_size, 80, 1, 1)\n",
    "\n",
    "        self.classifier = nn.Linear(80, 99)\n",
    "\n",
    "    def forward(self, X_features, X_images):\n",
    "        X = self.conv_features(X_images)\n",
    "        X = self.global_avg_pool(X) # (B, 80, 1, 1)\n",
    "        X = X.view(X.size(0), -1) # (B, 80)\n",
    "        return self.classifier(X) # (B, 99)"
   ]
  },
  {
   "cell_type": "code",
   "execution_count": 23,
   "id": "a881a9de",
   "metadata": {},
   "outputs": [],
   "source": [
    "class EarlyStopping:\n",
    "    def __init__(self, patience=5, delta=0):\n",
    "        self.patience = patience\n",
    "        self.delta = delta\n",
    "        self.best_score = None\n",
    "        self.early_stop = False\n",
    "        self.counter = 0\n",
    "        self.best_model_state = None\n",
    "\n",
    "    def __call__(self, val_loss, model):\n",
    "        score = -val_loss\n",
    "        if self.best_score is None:\n",
    "            self.best_score = score\n",
    "            self.best_model_state = model.state_dict()\n",
    "        elif score < self.best_score + self.delta:\n",
    "            self.counter += 1\n",
    "            if self.counter >= self.patience:\n",
    "                self.early_stop = True\n",
    "        else:\n",
    "            self.best_score = score\n",
    "            self.best_model_state = model.state_dict()\n",
    "            self.counter = 0\n",
    "\n",
    "    def load_best_model(self, model):\n",
    "        model.load_state_dict(self.best_model_state)"
   ]
  },
  {
   "cell_type": "code",
   "execution_count": 24,
   "id": "6c835e04",
   "metadata": {},
   "outputs": [],
   "source": [
    "CNN_model = CNN().to(device)\n",
    "optimizer_CNN = torch.optim.Adam(CNN_model.parameters())\n",
    "early_stopping_CNN = EarlyStopping(patience=20, delta=0.01)"
   ]
  },
  {
   "cell_type": "code",
   "execution_count": 25,
   "id": "7940e1d3",
   "metadata": {},
   "outputs": [
    {
     "data": {
      "text/plain": [
       "46359"
      ]
     },
     "execution_count": 25,
     "metadata": {},
     "output_type": "execute_result"
    }
   ],
   "source": [
    "sum(p.numel() for p in CNN_model.parameters() if p.requires_grad)"
   ]
  },
  {
   "cell_type": "code",
   "execution_count": 26,
   "id": "aa1edb4a",
   "metadata": {},
   "outputs": [],
   "source": [
    "def fit(model, optimizer, early_stopping, train_dl):\n",
    "    loss_func = torch.nn.CrossEntropyLoss()\n",
    "\n",
    "    # loop over epochs\n",
    "    for epoch in range(500):\n",
    "        model.train()\n",
    "\n",
    "        # loop over mini-batches\n",
    "        for X_features_mb, X_images_mb, y_mb in train_dl:\n",
    "            y_hat = model(X_features_mb, X_images_mb)\n",
    "\n",
    "            loss = loss_func(y_hat, y_mb)\n",
    "            loss.backward()\n",
    "\n",
    "            optimizer.step()\n",
    "            optimizer.zero_grad()\n",
    "\n",
    "        model.eval()\n",
    "        with torch.no_grad():\n",
    "            train_loss = sum(loss_func(model(X_features_mb, X_images_mb), y_mb) for X_features_mb, X_images_mb, y_mb in train_dl)\n",
    "            valid_loss = sum(loss_func(model(X_features_mb, X_images_mb), y_mb) for X_features_mb, X_images_mb, y_mb in valid_dl)\n",
    "        print('epoch {}, training loss {}'.format(epoch + 1, train_loss / len(train_dl)))\n",
    "        print('epoch {}, validation loss {}'.format(epoch + 1, valid_loss / len(valid_dl)))\n",
    "\n",
    "        early_stopping(valid_loss, model)\n",
    "        if early_stopping.early_stop:\n",
    "            print(\"Early stopping\")\n",
    "            break"
   ]
  },
  {
   "cell_type": "code",
   "execution_count": 27,
   "id": "6791acbe",
   "metadata": {},
   "outputs": [
    {
     "name": "stdout",
     "output_type": "stream",
     "text": [
      "epoch 1, training loss 4.539726257324219\n",
      "epoch 1, validation loss 4.551149368286133\n",
      "epoch 2, training loss 4.456623554229736\n",
      "epoch 2, validation loss 4.49194860458374\n",
      "epoch 3, training loss 4.382542133331299\n",
      "epoch 3, validation loss 4.434602737426758\n",
      "epoch 4, training loss 4.285975456237793\n",
      "epoch 4, validation loss 4.360361576080322\n",
      "epoch 5, training loss 4.21829080581665\n",
      "epoch 5, validation loss 4.296947956085205\n",
      "epoch 6, training loss 4.108278751373291\n",
      "epoch 6, validation loss 4.180332183837891\n",
      "epoch 7, training loss 4.010843276977539\n",
      "epoch 7, validation loss 4.105395793914795\n",
      "epoch 8, training loss 3.8998656272888184\n",
      "epoch 8, validation loss 4.025290012359619\n",
      "epoch 9, training loss 3.8643124103546143\n",
      "epoch 9, validation loss 3.9556233882904053\n",
      "epoch 10, training loss 3.7549614906311035\n",
      "epoch 10, validation loss 3.8997068405151367\n",
      "epoch 11, training loss 3.7103559970855713\n",
      "epoch 11, validation loss 3.8785722255706787\n",
      "epoch 12, training loss 3.701502561569214\n",
      "epoch 12, validation loss 3.7427780628204346\n",
      "epoch 13, training loss 3.551934242248535\n",
      "epoch 13, validation loss 3.6342296600341797\n",
      "epoch 14, training loss 3.511695384979248\n",
      "epoch 14, validation loss 3.5650980472564697\n",
      "epoch 15, training loss 3.431795835494995\n",
      "epoch 15, validation loss 3.506199359893799\n",
      "epoch 16, training loss 3.443060874938965\n",
      "epoch 16, validation loss 3.4591076374053955\n",
      "epoch 17, training loss 3.287046432495117\n",
      "epoch 17, validation loss 3.4070372581481934\n",
      "epoch 18, training loss 3.265767812728882\n",
      "epoch 18, validation loss 3.291816234588623\n",
      "epoch 19, training loss 3.1745219230651855\n",
      "epoch 19, validation loss 3.263277769088745\n",
      "epoch 20, training loss 3.0448057651519775\n",
      "epoch 20, validation loss 3.1382498741149902\n",
      "epoch 21, training loss 3.059518575668335\n",
      "epoch 21, validation loss 3.134193181991577\n",
      "epoch 22, training loss 2.9668078422546387\n",
      "epoch 22, validation loss 3.0575451850891113\n",
      "epoch 23, training loss 2.883312940597534\n",
      "epoch 23, validation loss 2.9991350173950195\n",
      "epoch 24, training loss 2.76788330078125\n",
      "epoch 24, validation loss 2.8612263202667236\n",
      "epoch 25, training loss 2.74373197555542\n",
      "epoch 25, validation loss 2.8140954971313477\n",
      "epoch 26, training loss 2.6824870109558105\n",
      "epoch 26, validation loss 2.8313305377960205\n",
      "epoch 27, training loss 2.6876022815704346\n",
      "epoch 27, validation loss 2.8082761764526367\n",
      "epoch 28, training loss 2.6106231212615967\n",
      "epoch 28, validation loss 2.672093391418457\n",
      "epoch 29, training loss 2.6100196838378906\n",
      "epoch 29, validation loss 2.7479138374328613\n",
      "epoch 30, training loss 2.4162254333496094\n",
      "epoch 30, validation loss 2.5172014236450195\n",
      "epoch 31, training loss 2.6210837364196777\n",
      "epoch 31, validation loss 2.682312250137329\n",
      "epoch 32, training loss 2.3523077964782715\n",
      "epoch 32, validation loss 2.4504408836364746\n",
      "epoch 33, training loss 2.3166799545288086\n",
      "epoch 33, validation loss 2.4343669414520264\n",
      "epoch 34, training loss 2.2778432369232178\n",
      "epoch 34, validation loss 2.3534512519836426\n",
      "epoch 35, training loss 2.2248218059539795\n",
      "epoch 35, validation loss 2.310818672180176\n",
      "epoch 36, training loss 2.1978204250335693\n",
      "epoch 36, validation loss 2.344043731689453\n",
      "epoch 37, training loss 2.080383777618408\n",
      "epoch 37, validation loss 2.2377312183380127\n",
      "epoch 38, training loss 2.219620943069458\n",
      "epoch 38, validation loss 2.224921941757202\n",
      "epoch 39, training loss 2.196878671646118\n",
      "epoch 39, validation loss 2.2179393768310547\n",
      "epoch 40, training loss 1.9822460412979126\n",
      "epoch 40, validation loss 2.099599838256836\n",
      "epoch 41, training loss 2.0078680515289307\n",
      "epoch 41, validation loss 2.1615843772888184\n",
      "epoch 42, training loss 1.9048398733139038\n",
      "epoch 42, validation loss 2.0394368171691895\n",
      "epoch 43, training loss 1.8740280866622925\n",
      "epoch 43, validation loss 2.0296363830566406\n",
      "epoch 44, training loss 1.8605022430419922\n",
      "epoch 44, validation loss 2.0183513164520264\n",
      "epoch 45, training loss 1.8602114915847778\n",
      "epoch 45, validation loss 2.069089889526367\n",
      "epoch 46, training loss 2.1081862449645996\n",
      "epoch 46, validation loss 2.117715358734131\n",
      "epoch 47, training loss 1.7812167406082153\n",
      "epoch 47, validation loss 1.904711365699768\n",
      "epoch 48, training loss 1.6988654136657715\n",
      "epoch 48, validation loss 1.866281509399414\n",
      "epoch 49, training loss 1.7020056247711182\n",
      "epoch 49, validation loss 1.9192893505096436\n",
      "epoch 50, training loss 2.1692233085632324\n",
      "epoch 50, validation loss 2.196007013320923\n",
      "epoch 51, training loss 1.6438592672348022\n",
      "epoch 51, validation loss 1.764577031135559\n",
      "epoch 52, training loss 1.8360658884048462\n",
      "epoch 52, validation loss 1.883951187133789\n",
      "epoch 53, training loss 1.5731455087661743\n",
      "epoch 53, validation loss 1.8177680969238281\n",
      "epoch 54, training loss 1.5373378992080688\n",
      "epoch 54, validation loss 1.6825578212738037\n",
      "epoch 55, training loss 1.7252877950668335\n",
      "epoch 55, validation loss 1.8222873210906982\n",
      "epoch 56, training loss 1.5023716688156128\n",
      "epoch 56, validation loss 1.7137103080749512\n",
      "epoch 57, training loss 1.7398686408996582\n",
      "epoch 57, validation loss 2.036463499069214\n",
      "epoch 58, training loss 1.425425410270691\n",
      "epoch 58, validation loss 1.6096291542053223\n",
      "epoch 59, training loss 1.4234572649002075\n",
      "epoch 59, validation loss 1.7333147525787354\n",
      "epoch 60, training loss 1.3484671115875244\n",
      "epoch 60, validation loss 1.5613173246383667\n",
      "epoch 61, training loss 1.3351168632507324\n",
      "epoch 61, validation loss 1.6008777618408203\n",
      "epoch 62, training loss 1.8761746883392334\n",
      "epoch 62, validation loss 2.073366641998291\n",
      "epoch 63, training loss 1.567935585975647\n",
      "epoch 63, validation loss 1.7109057903289795\n",
      "epoch 64, training loss 1.3013708591461182\n",
      "epoch 64, validation loss 1.5935478210449219\n",
      "epoch 65, training loss 1.630537509918213\n",
      "epoch 65, validation loss 2.000119686126709\n",
      "epoch 66, training loss 1.2702901363372803\n",
      "epoch 66, validation loss 1.4602853059768677\n",
      "epoch 67, training loss 1.1534498929977417\n",
      "epoch 67, validation loss 1.3925247192382812\n",
      "epoch 68, training loss 1.5707380771636963\n",
      "epoch 68, validation loss 1.7505383491516113\n",
      "epoch 69, training loss 1.3010200262069702\n",
      "epoch 69, validation loss 1.6352118253707886\n",
      "epoch 70, training loss 1.2312161922454834\n",
      "epoch 70, validation loss 1.422334909439087\n",
      "epoch 71, training loss 1.108014464378357\n",
      "epoch 71, validation loss 1.4105939865112305\n",
      "epoch 72, training loss 1.1074427366256714\n",
      "epoch 72, validation loss 1.4110829830169678\n",
      "epoch 73, training loss 1.0505175590515137\n",
      "epoch 73, validation loss 1.2822877168655396\n",
      "epoch 74, training loss 1.0251219272613525\n",
      "epoch 74, validation loss 1.3003239631652832\n",
      "epoch 75, training loss 1.2675889730453491\n",
      "epoch 75, validation loss 1.57871675491333\n",
      "epoch 76, training loss 1.0438905954360962\n",
      "epoch 76, validation loss 1.351381778717041\n",
      "epoch 77, training loss 1.0298867225646973\n",
      "epoch 77, validation loss 1.2947863340377808\n",
      "epoch 78, training loss 1.1618542671203613\n",
      "epoch 78, validation loss 1.5704717636108398\n",
      "epoch 79, training loss 1.0865447521209717\n",
      "epoch 79, validation loss 1.4551798105239868\n",
      "epoch 80, training loss 1.2025625705718994\n",
      "epoch 80, validation loss 1.41763174533844\n",
      "epoch 81, training loss 0.9208510518074036\n",
      "epoch 81, validation loss 1.2302216291427612\n",
      "epoch 82, training loss 0.8985090255737305\n",
      "epoch 82, validation loss 1.199680209159851\n",
      "epoch 83, training loss 1.0041279792785645\n",
      "epoch 83, validation loss 1.4292991161346436\n",
      "epoch 84, training loss 0.8287248015403748\n",
      "epoch 84, validation loss 1.173267126083374\n",
      "epoch 85, training loss 0.8537527918815613\n",
      "epoch 85, validation loss 1.2171638011932373\n",
      "epoch 86, training loss 0.8400242328643799\n",
      "epoch 86, validation loss 1.1611607074737549\n",
      "epoch 87, training loss 0.9857153296470642\n",
      "epoch 87, validation loss 1.5479795932769775\n",
      "epoch 88, training loss 0.9057255387306213\n",
      "epoch 88, validation loss 1.3168491125106812\n",
      "epoch 89, training loss 1.120587706565857\n",
      "epoch 89, validation loss 1.4918752908706665\n",
      "epoch 90, training loss 0.7870087027549744\n",
      "epoch 90, validation loss 1.1630967855453491\n",
      "epoch 91, training loss 1.1497719287872314\n",
      "epoch 91, validation loss 1.5296074151992798\n",
      "epoch 92, training loss 1.1867966651916504\n",
      "epoch 92, validation loss 1.5397223234176636\n",
      "epoch 93, training loss 0.7855885028839111\n",
      "epoch 93, validation loss 1.1153017282485962\n",
      "epoch 94, training loss 1.1717321872711182\n",
      "epoch 94, validation loss 1.5370762348175049\n",
      "epoch 95, training loss 0.8356985449790955\n",
      "epoch 95, validation loss 1.2350361347198486\n",
      "epoch 96, training loss 0.8549708127975464\n",
      "epoch 96, validation loss 1.4272315502166748\n",
      "epoch 97, training loss 0.8759715557098389\n",
      "epoch 97, validation loss 1.2796632051467896\n",
      "epoch 98, training loss 0.911138117313385\n",
      "epoch 98, validation loss 1.5161633491516113\n",
      "epoch 99, training loss 2.003279685974121\n",
      "epoch 99, validation loss 2.2226648330688477\n",
      "epoch 100, training loss 0.6477543711662292\n",
      "epoch 100, validation loss 1.1179755926132202\n",
      "epoch 101, training loss 0.8597440123558044\n",
      "epoch 101, validation loss 1.419755458831787\n",
      "epoch 102, training loss 0.968362033367157\n",
      "epoch 102, validation loss 1.5322238206863403\n",
      "epoch 103, training loss 0.8103215098381042\n",
      "epoch 103, validation loss 1.2917853593826294\n",
      "epoch 104, training loss 0.56771320104599\n",
      "epoch 104, validation loss 1.0019667148590088\n",
      "epoch 105, training loss 0.5899914503097534\n",
      "epoch 105, validation loss 1.061369776725769\n",
      "epoch 106, training loss 0.6166210174560547\n",
      "epoch 106, validation loss 1.0399184226989746\n",
      "epoch 107, training loss 0.505154550075531\n",
      "epoch 107, validation loss 0.9868406057357788\n",
      "epoch 108, training loss 0.6329290866851807\n",
      "epoch 108, validation loss 1.1032788753509521\n",
      "epoch 109, training loss 0.5866732597351074\n",
      "epoch 109, validation loss 1.1705718040466309\n",
      "epoch 110, training loss 0.8442195057868958\n",
      "epoch 110, validation loss 1.2883843183517456\n",
      "epoch 111, training loss 0.8560465574264526\n",
      "epoch 111, validation loss 1.4589251279830933\n",
      "epoch 112, training loss 0.618985116481781\n",
      "epoch 112, validation loss 1.111939787864685\n",
      "epoch 113, training loss 0.4726726710796356\n",
      "epoch 113, validation loss 0.9936850666999817\n",
      "epoch 114, training loss 0.7368918657302856\n",
      "epoch 114, validation loss 1.2692954540252686\n",
      "epoch 115, training loss 0.8415782451629639\n",
      "epoch 115, validation loss 1.3254214525222778\n",
      "epoch 116, training loss 0.47466495633125305\n",
      "epoch 116, validation loss 1.0122082233428955\n",
      "epoch 117, training loss 0.36455896496772766\n",
      "epoch 117, validation loss 0.9236171841621399\n",
      "epoch 118, training loss 0.5386084914207458\n",
      "epoch 118, validation loss 1.0636520385742188\n",
      "epoch 119, training loss 0.4706249535083771\n",
      "epoch 119, validation loss 1.1007180213928223\n",
      "epoch 120, training loss 0.4815431535243988\n",
      "epoch 120, validation loss 1.0416505336761475\n",
      "epoch 121, training loss 0.5687351226806641\n",
      "epoch 121, validation loss 1.1731938123703003\n",
      "epoch 122, training loss 0.7562158107757568\n",
      "epoch 122, validation loss 1.5638495683670044\n",
      "epoch 123, training loss 0.4274797737598419\n",
      "epoch 123, validation loss 0.992761492729187\n",
      "epoch 124, training loss 0.4390866458415985\n",
      "epoch 124, validation loss 0.937362551689148\n",
      "epoch 125, training loss 0.538555920124054\n",
      "epoch 125, validation loss 1.1604729890823364\n",
      "epoch 126, training loss 0.4355992376804352\n",
      "epoch 126, validation loss 0.9995057582855225\n",
      "epoch 127, training loss 0.343778133392334\n",
      "epoch 127, validation loss 0.8606793284416199\n",
      "epoch 128, training loss 0.9387854337692261\n",
      "epoch 128, validation loss 1.5300871133804321\n",
      "epoch 129, training loss 0.38990432024002075\n",
      "epoch 129, validation loss 1.000967025756836\n",
      "epoch 130, training loss 0.40895870327949524\n",
      "epoch 130, validation loss 1.0094057321548462\n",
      "epoch 131, training loss 0.7777014970779419\n",
      "epoch 131, validation loss 1.4264228343963623\n",
      "epoch 132, training loss 0.2890269160270691\n",
      "epoch 132, validation loss 0.9024220705032349\n",
      "epoch 133, training loss 1.3254051208496094\n",
      "epoch 133, validation loss 1.95888352394104\n",
      "epoch 134, training loss 0.3475065529346466\n",
      "epoch 134, validation loss 0.8803022503852844\n",
      "epoch 135, training loss 0.9323159456253052\n",
      "epoch 135, validation loss 1.735493540763855\n",
      "epoch 136, training loss 0.42513567209243774\n",
      "epoch 136, validation loss 1.0465545654296875\n",
      "epoch 137, training loss 0.38193947076797485\n",
      "epoch 137, validation loss 0.9952421188354492\n",
      "epoch 138, training loss 0.30798834562301636\n",
      "epoch 138, validation loss 0.9279649257659912\n",
      "epoch 139, training loss 0.4266968071460724\n",
      "epoch 139, validation loss 1.2290799617767334\n",
      "epoch 140, training loss 0.2800700068473816\n",
      "epoch 140, validation loss 0.8765701055526733\n",
      "epoch 141, training loss 0.42330607771873474\n",
      "epoch 141, validation loss 1.1093029975891113\n",
      "epoch 142, training loss 0.4183235466480255\n",
      "epoch 142, validation loss 1.0795634984970093\n",
      "epoch 143, training loss 0.35547366738319397\n",
      "epoch 143, validation loss 1.0415434837341309\n",
      "epoch 144, training loss 0.3005751669406891\n",
      "epoch 144, validation loss 1.0204182863235474\n",
      "epoch 145, training loss 0.20403830707073212\n",
      "epoch 145, validation loss 0.7905023694038391\n",
      "epoch 146, training loss 1.175226092338562\n",
      "epoch 146, validation loss 1.9597084522247314\n",
      "epoch 147, training loss 0.19380182027816772\n",
      "epoch 147, validation loss 0.7762221693992615\n",
      "epoch 148, training loss 0.45925161242485046\n",
      "epoch 148, validation loss 1.456568956375122\n",
      "epoch 149, training loss 0.4916582405567169\n",
      "epoch 149, validation loss 1.4294593334197998\n",
      "epoch 150, training loss 0.20250532031059265\n",
      "epoch 150, validation loss 0.9110527038574219\n",
      "epoch 151, training loss 1.6767349243164062\n",
      "epoch 151, validation loss 2.309082269668579\n",
      "epoch 152, training loss 0.4290063679218292\n",
      "epoch 152, validation loss 1.2933458089828491\n",
      "epoch 153, training loss 0.3025814890861511\n",
      "epoch 153, validation loss 1.0263636112213135\n",
      "epoch 154, training loss 0.2252655327320099\n",
      "epoch 154, validation loss 0.8476561307907104\n",
      "epoch 155, training loss 0.5637198090553284\n",
      "epoch 155, validation loss 1.236043095588684\n",
      "epoch 156, training loss 0.2185986340045929\n",
      "epoch 156, validation loss 0.9178414344787598\n",
      "epoch 157, training loss 0.2402399331331253\n",
      "epoch 157, validation loss 1.0531258583068848\n",
      "epoch 158, training loss 0.23605354130268097\n",
      "epoch 158, validation loss 0.9769891500473022\n",
      "epoch 159, training loss 0.1497851312160492\n",
      "epoch 159, validation loss 0.7787555456161499\n",
      "epoch 160, training loss 0.1517593115568161\n",
      "epoch 160, validation loss 0.8614223599433899\n",
      "epoch 161, training loss 0.3648945093154907\n",
      "epoch 161, validation loss 1.111285924911499\n",
      "epoch 162, training loss 0.16383253037929535\n",
      "epoch 162, validation loss 0.9243326187133789\n",
      "epoch 163, training loss 0.6488026976585388\n",
      "epoch 163, validation loss 1.5699375867843628\n",
      "epoch 164, training loss 0.1542665660381317\n",
      "epoch 164, validation loss 0.9022934436798096\n",
      "epoch 165, training loss 0.2179233431816101\n",
      "epoch 165, validation loss 0.9569470882415771\n",
      "epoch 166, training loss 0.16177991032600403\n",
      "epoch 166, validation loss 0.8218376040458679\n",
      "epoch 167, training loss 0.13414102792739868\n",
      "epoch 167, validation loss 0.8178260922431946\n",
      "Early stopping\n"
     ]
    }
   ],
   "source": [
    "fit(CNN_model, optimizer_CNN, early_stopping_CNN, train_dl)"
   ]
  },
  {
   "cell_type": "code",
   "execution_count": 28,
   "id": "59218c44",
   "metadata": {},
   "outputs": [],
   "source": [
    "early_stopping_CNN.load_best_model(CNN_model)"
   ]
  },
  {
   "cell_type": "code",
   "execution_count": 29,
   "id": "36b869b9",
   "metadata": {},
   "outputs": [],
   "source": [
    "with torch.no_grad():\n",
    "    yhat_train_CNN = CNN_model(train_ds[:][0], train_ds[:][1]).cpu()\n",
    "    yhat_val_CNN = CNN_model(val_ds[:][0], val_ds[:][1]).cpu()"
   ]
  },
  {
   "cell_type": "code",
   "execution_count": 30,
   "id": "5c3741f7",
   "metadata": {},
   "outputs": [
    {
     "data": {
      "text/plain": [
       "1.0"
      ]
     },
     "execution_count": 30,
     "metadata": {},
     "output_type": "execute_result"
    }
   ],
   "source": [
    "accuracy_score(np.argmax(train_ds[:][2].cpu().numpy(), axis=1), np.argmax(yhat_train_CNN.numpy(), axis=1))"
   ]
  },
  {
   "cell_type": "code",
   "execution_count": 31,
   "id": "535e965a",
   "metadata": {},
   "outputs": [
    {
     "data": {
      "text/plain": [
       "0.7525252525252525"
      ]
     },
     "execution_count": 31,
     "metadata": {},
     "output_type": "execute_result"
    }
   ],
   "source": [
    "accuracy_score(np.argmax(val_ds[:][2].cpu().numpy(), axis=1), np.argmax(yhat_val_CNN.numpy(), axis=1))"
   ]
  },
  {
   "cell_type": "code",
   "execution_count": 32,
   "id": "9b0aa628",
   "metadata": {},
   "outputs": [],
   "source": [
    "softmax = nn.Softmax(dim=1)"
   ]
  },
  {
   "cell_type": "code",
   "execution_count": 33,
   "id": "8ff65b69",
   "metadata": {},
   "outputs": [
    {
     "data": {
      "text/plain": [
       "0.13478189925467005"
      ]
     },
     "execution_count": 33,
     "metadata": {},
     "output_type": "execute_result"
    }
   ],
   "source": [
    "log_loss(train_ds[:][2].cpu().numpy(), softmax(yhat_train_CNN).numpy())"
   ]
  },
  {
   "cell_type": "code",
   "execution_count": 34,
   "id": "c24051d6",
   "metadata": {},
   "outputs": [
    {
     "data": {
      "text/plain": [
       "0.8825494593849018"
      ]
     },
     "execution_count": 34,
     "metadata": {},
     "output_type": "execute_result"
    }
   ],
   "source": [
    "log_loss(val_ds[:][2].cpu().numpy(), softmax(yhat_val_CNN).numpy())"
   ]
  },
  {
   "cell_type": "markdown",
   "id": "1156d7eb",
   "metadata": {},
   "source": [
    "pure tabular feature model"
   ]
  },
  {
   "cell_type": "code",
   "execution_count": 35,
   "id": "39b4ee66",
   "metadata": {},
   "outputs": [],
   "source": [
    "class MLP(nn.Module):\n",
    "    def __init__(self):\n",
    "        super().__init__()\n",
    "\n",
    "        self.mlp = nn.Sequential(\n",
    "            nn.Linear(192, 1000),\n",
    "            nn.ReLU(),\n",
    "            nn.Dropout(0.2),\n",
    "            nn.Linear(1000, 99)\n",
    "        )\n",
    "\n",
    "    def forward(self, X_features, X_images):\n",
    "        return self.mlp(X_features)"
   ]
  },
  {
   "cell_type": "code",
   "execution_count": 36,
   "id": "df004eee",
   "metadata": {},
   "outputs": [],
   "source": [
    "MLP_model = MLP().to(device)\n",
    "optimizer_MLP = torch.optim.Adam(MLP_model.parameters())\n",
    "early_stopping_MLP = EarlyStopping(patience=20, delta=0.01)"
   ]
  },
  {
   "cell_type": "code",
   "execution_count": 37,
   "id": "b9877edc",
   "metadata": {},
   "outputs": [
    {
     "data": {
      "text/plain": [
       "292099"
      ]
     },
     "execution_count": 37,
     "metadata": {},
     "output_type": "execute_result"
    }
   ],
   "source": [
    "sum(p.numel() for p in MLP_model.parameters() if p.requires_grad)"
   ]
  },
  {
   "cell_type": "code",
   "execution_count": 38,
   "id": "59f1a48e",
   "metadata": {},
   "outputs": [
    {
     "name": "stdout",
     "output_type": "stream",
     "text": [
      "epoch 1, training loss 4.542545318603516\n",
      "epoch 1, validation loss 4.562008857727051\n",
      "epoch 2, training loss 4.418935298919678\n",
      "epoch 2, validation loss 4.491244792938232\n",
      "epoch 3, training loss 4.177369117736816\n",
      "epoch 3, validation loss 4.334717750549316\n",
      "epoch 4, training loss 3.805349588394165\n",
      "epoch 4, validation loss 4.047629356384277\n",
      "epoch 5, training loss 3.369678497314453\n",
      "epoch 5, validation loss 3.6844704151153564\n",
      "epoch 6, training loss 2.942521572113037\n",
      "epoch 6, validation loss 3.288233757019043\n",
      "epoch 7, training loss 2.561784029006958\n",
      "epoch 7, validation loss 2.93481707572937\n",
      "epoch 8, training loss 2.2394254207611084\n",
      "epoch 8, validation loss 2.6005711555480957\n",
      "epoch 9, training loss 1.9684123992919922\n",
      "epoch 9, validation loss 2.3196654319763184\n",
      "epoch 10, training loss 1.7384302616119385\n",
      "epoch 10, validation loss 2.0887820720672607\n",
      "epoch 11, training loss 1.533793568611145\n",
      "epoch 11, validation loss 1.8970177173614502\n",
      "epoch 12, training loss 1.3663386106491089\n",
      "epoch 12, validation loss 1.7229262590408325\n",
      "epoch 13, training loss 1.2225406169891357\n",
      "epoch 13, validation loss 1.5481735467910767\n",
      "epoch 14, training loss 1.0924338102340698\n",
      "epoch 14, validation loss 1.429017424583435\n",
      "epoch 15, training loss 0.9880513548851013\n",
      "epoch 15, validation loss 1.302433729171753\n",
      "epoch 16, training loss 0.8928343057632446\n",
      "epoch 16, validation loss 1.2278976440429688\n",
      "epoch 17, training loss 0.8078681230545044\n",
      "epoch 17, validation loss 1.1229578256607056\n",
      "epoch 18, training loss 0.7345188856124878\n",
      "epoch 18, validation loss 1.0314607620239258\n",
      "epoch 19, training loss 0.6734224557876587\n",
      "epoch 19, validation loss 0.986473798751831\n",
      "epoch 20, training loss 0.6139931678771973\n",
      "epoch 20, validation loss 0.9250032305717468\n",
      "epoch 21, training loss 0.5648629665374756\n",
      "epoch 21, validation loss 0.8697941303253174\n",
      "epoch 22, training loss 0.5224168300628662\n",
      "epoch 22, validation loss 0.8206468820571899\n",
      "epoch 23, training loss 0.48327842354774475\n",
      "epoch 23, validation loss 0.7806512117385864\n",
      "epoch 24, training loss 0.4453295171260834\n",
      "epoch 24, validation loss 0.7232495546340942\n",
      "epoch 25, training loss 0.4150588810443878\n",
      "epoch 25, validation loss 0.689190149307251\n",
      "epoch 26, training loss 0.38682883977890015\n",
      "epoch 26, validation loss 0.6683124899864197\n",
      "epoch 27, training loss 0.3606224060058594\n",
      "epoch 27, validation loss 0.6360585689544678\n",
      "epoch 28, training loss 0.3375498056411743\n",
      "epoch 28, validation loss 0.6266219615936279\n",
      "epoch 29, training loss 0.3150990903377533\n",
      "epoch 29, validation loss 0.5828556418418884\n",
      "epoch 30, training loss 0.29655468463897705\n",
      "epoch 30, validation loss 0.5762652158737183\n",
      "epoch 31, training loss 0.2768017053604126\n",
      "epoch 31, validation loss 0.5525311231613159\n",
      "epoch 32, training loss 0.260938823223114\n",
      "epoch 32, validation loss 0.541455864906311\n",
      "epoch 33, training loss 0.2471368908882141\n",
      "epoch 33, validation loss 0.5209531784057617\n",
      "epoch 34, training loss 0.23324455320835114\n",
      "epoch 34, validation loss 0.5052311420440674\n",
      "epoch 35, training loss 0.22017426788806915\n",
      "epoch 35, validation loss 0.48123857378959656\n",
      "epoch 36, training loss 0.20798316597938538\n",
      "epoch 36, validation loss 0.46965593099594116\n",
      "epoch 37, training loss 0.1955460160970688\n",
      "epoch 37, validation loss 0.45902523398399353\n",
      "epoch 38, training loss 0.1853751391172409\n",
      "epoch 38, validation loss 0.4690619111061096\n",
      "epoch 39, training loss 0.1756303906440735\n",
      "epoch 39, validation loss 0.43289580941200256\n",
      "epoch 40, training loss 0.1664433479309082\n",
      "epoch 40, validation loss 0.4210661053657532\n",
      "epoch 41, training loss 0.1585000455379486\n",
      "epoch 41, validation loss 0.407676100730896\n",
      "epoch 42, training loss 0.15055182576179504\n",
      "epoch 42, validation loss 0.41266125440597534\n",
      "epoch 43, training loss 0.1427532136440277\n",
      "epoch 43, validation loss 0.3973160684108734\n",
      "epoch 44, training loss 0.13595710694789886\n",
      "epoch 44, validation loss 0.38795775175094604\n",
      "epoch 45, training loss 0.130068838596344\n",
      "epoch 45, validation loss 0.37672412395477295\n",
      "epoch 46, training loss 0.12416251003742218\n",
      "epoch 46, validation loss 0.3671877980232239\n",
      "epoch 47, training loss 0.11919458955526352\n",
      "epoch 47, validation loss 0.3595218360424042\n",
      "epoch 48, training loss 0.11381566524505615\n",
      "epoch 48, validation loss 0.35608696937561035\n",
      "epoch 49, training loss 0.10874490439891815\n",
      "epoch 49, validation loss 0.35122212767601013\n",
      "epoch 50, training loss 0.10479194670915604\n",
      "epoch 50, validation loss 0.3579567074775696\n",
      "epoch 51, training loss 0.09974858909845352\n",
      "epoch 51, validation loss 0.3504233956336975\n",
      "epoch 52, training loss 0.09470488131046295\n",
      "epoch 52, validation loss 0.3285830020904541\n",
      "epoch 53, training loss 0.09114348888397217\n",
      "epoch 53, validation loss 0.32146698236465454\n",
      "epoch 54, training loss 0.08776630461215973\n",
      "epoch 54, validation loss 0.33182641863822937\n",
      "epoch 55, training loss 0.08425679057836533\n",
      "epoch 55, validation loss 0.318907767534256\n",
      "epoch 56, training loss 0.08090930432081223\n",
      "epoch 56, validation loss 0.3120780289173126\n",
      "epoch 57, training loss 0.07792816311120987\n",
      "epoch 57, validation loss 0.3161824941635132\n",
      "epoch 58, training loss 0.07479574531316757\n",
      "epoch 58, validation loss 0.30777183175086975\n",
      "epoch 59, training loss 0.07188360393047333\n",
      "epoch 59, validation loss 0.3127748966217041\n",
      "epoch 60, training loss 0.0696856901049614\n",
      "epoch 60, validation loss 0.3065063953399658\n",
      "epoch 61, training loss 0.0670832097530365\n",
      "epoch 61, validation loss 0.292466402053833\n",
      "epoch 62, training loss 0.06435561180114746\n",
      "epoch 62, validation loss 0.29105615615844727\n",
      "epoch 63, training loss 0.0627649798989296\n",
      "epoch 63, validation loss 0.2833060026168823\n",
      "epoch 64, training loss 0.06056734547019005\n",
      "epoch 64, validation loss 0.29477083683013916\n",
      "epoch 65, training loss 0.057864122092723846\n",
      "epoch 65, validation loss 0.28140097856521606\n",
      "epoch 66, training loss 0.05573215335607529\n",
      "epoch 66, validation loss 0.27591413259506226\n",
      "epoch 67, training loss 0.053164076060056686\n",
      "epoch 67, validation loss 0.28203126788139343\n",
      "epoch 68, training loss 0.052059248089790344\n",
      "epoch 68, validation loss 0.26970988512039185\n",
      "epoch 69, training loss 0.050339821726083755\n",
      "epoch 69, validation loss 0.2683895230293274\n",
      "epoch 70, training loss 0.048805754631757736\n",
      "epoch 70, validation loss 0.2784057855606079\n",
      "epoch 71, training loss 0.04694417491555214\n",
      "epoch 71, validation loss 0.27330294251441956\n",
      "epoch 72, training loss 0.045667242258787155\n",
      "epoch 72, validation loss 0.26232820749282837\n",
      "epoch 73, training loss 0.0437249094247818\n",
      "epoch 73, validation loss 0.2640238404273987\n",
      "epoch 74, training loss 0.04303385689854622\n",
      "epoch 74, validation loss 0.2610644996166229\n",
      "epoch 75, training loss 0.041190292686223984\n",
      "epoch 75, validation loss 0.26200443506240845\n",
      "epoch 76, training loss 0.03992991894483566\n",
      "epoch 76, validation loss 0.24918833374977112\n",
      "epoch 77, training loss 0.03892508149147034\n",
      "epoch 77, validation loss 0.24953722953796387\n",
      "epoch 78, training loss 0.037305232137441635\n",
      "epoch 78, validation loss 0.2463364601135254\n",
      "epoch 79, training loss 0.03656597435474396\n",
      "epoch 79, validation loss 0.24327102303504944\n",
      "epoch 80, training loss 0.035374175757169724\n",
      "epoch 80, validation loss 0.24554552137851715\n",
      "epoch 81, training loss 0.034141018986701965\n",
      "epoch 81, validation loss 0.2456473857164383\n",
      "epoch 82, training loss 0.033334698528051376\n",
      "epoch 82, validation loss 0.22967204451560974\n",
      "epoch 83, training loss 0.03244761377573013\n",
      "epoch 83, validation loss 0.23180703818798065\n",
      "epoch 84, training loss 0.031165456399321556\n",
      "epoch 84, validation loss 0.24014832079410553\n",
      "epoch 85, training loss 0.0308624766767025\n",
      "epoch 85, validation loss 0.23172810673713684\n",
      "epoch 86, training loss 0.029347900301218033\n",
      "epoch 86, validation loss 0.22523511946201324\n",
      "epoch 87, training loss 0.028730498626828194\n",
      "epoch 87, validation loss 0.23345336318016052\n",
      "epoch 88, training loss 0.027857555076479912\n",
      "epoch 88, validation loss 0.23191605508327484\n",
      "epoch 89, training loss 0.027080999687314034\n",
      "epoch 89, validation loss 0.22255443036556244\n",
      "epoch 90, training loss 0.026215532794594765\n",
      "epoch 90, validation loss 0.22860881686210632\n",
      "epoch 91, training loss 0.025563489645719528\n",
      "epoch 91, validation loss 0.2236356884241104\n",
      "epoch 92, training loss 0.02478300966322422\n",
      "epoch 92, validation loss 0.2292604148387909\n",
      "epoch 93, training loss 0.024057796224951744\n",
      "epoch 93, validation loss 0.24063174426555634\n",
      "epoch 94, training loss 0.023921454325318336\n",
      "epoch 94, validation loss 0.22627359628677368\n",
      "epoch 95, training loss 0.02270744927227497\n",
      "epoch 95, validation loss 0.21734139323234558\n",
      "epoch 96, training loss 0.022472500801086426\n",
      "epoch 96, validation loss 0.21392524242401123\n",
      "epoch 97, training loss 0.02159779705107212\n",
      "epoch 97, validation loss 0.22246168553829193\n",
      "epoch 98, training loss 0.02132601849734783\n",
      "epoch 98, validation loss 0.21881914138793945\n",
      "epoch 99, training loss 0.020500067621469498\n",
      "epoch 99, validation loss 0.22284972667694092\n",
      "epoch 100, training loss 0.0203311275690794\n",
      "epoch 100, validation loss 0.21671545505523682\n",
      "epoch 101, training loss 0.019681807607412338\n",
      "epoch 101, validation loss 0.21598878502845764\n",
      "epoch 102, training loss 0.019063221290707588\n",
      "epoch 102, validation loss 0.21159261465072632\n",
      "epoch 103, training loss 0.018595805391669273\n",
      "epoch 103, validation loss 0.21247868239879608\n",
      "epoch 104, training loss 0.018285302445292473\n",
      "epoch 104, validation loss 0.1988648772239685\n",
      "epoch 105, training loss 0.017716117203235626\n",
      "epoch 105, validation loss 0.22095556557178497\n",
      "epoch 106, training loss 0.017208565026521683\n",
      "epoch 106, validation loss 0.21212372183799744\n",
      "epoch 107, training loss 0.016892187297344208\n",
      "epoch 107, validation loss 0.21300625801086426\n",
      "epoch 108, training loss 0.01630023680627346\n",
      "epoch 108, validation loss 0.20582422614097595\n",
      "epoch 109, training loss 0.01623804122209549\n",
      "epoch 109, validation loss 0.20942583680152893\n",
      "epoch 110, training loss 0.015596671961247921\n",
      "epoch 110, validation loss 0.2115185707807541\n",
      "epoch 111, training loss 0.01532051432877779\n",
      "epoch 111, validation loss 0.2106240689754486\n",
      "epoch 112, training loss 0.014958537183701992\n",
      "epoch 112, validation loss 0.20684988796710968\n",
      "epoch 113, training loss 0.014478931203484535\n",
      "epoch 113, validation loss 0.2008287012577057\n",
      "epoch 114, training loss 0.014320893213152885\n",
      "epoch 114, validation loss 0.2093771994113922\n",
      "epoch 115, training loss 0.013804777525365353\n",
      "epoch 115, validation loss 0.20860986411571503\n",
      "epoch 116, training loss 0.013657043687999249\n",
      "epoch 116, validation loss 0.18762022256851196\n",
      "epoch 117, training loss 0.013198615983128548\n",
      "epoch 117, validation loss 0.19241829216480255\n",
      "epoch 118, training loss 0.013005866669118404\n",
      "epoch 118, validation loss 0.19986437261104584\n",
      "epoch 119, training loss 0.012584000825881958\n",
      "epoch 119, validation loss 0.20950005948543549\n",
      "epoch 120, training loss 0.012220663949847221\n",
      "epoch 120, validation loss 0.20756717026233673\n",
      "epoch 121, training loss 0.012013761326670647\n",
      "epoch 121, validation loss 0.20044702291488647\n",
      "epoch 122, training loss 0.011642128229141235\n",
      "epoch 122, validation loss 0.19621820747852325\n",
      "epoch 123, training loss 0.011463850736618042\n",
      "epoch 123, validation loss 0.19413462281227112\n",
      "epoch 124, training loss 0.011356746777892113\n",
      "epoch 124, validation loss 0.19637516140937805\n",
      "epoch 125, training loss 0.011076497845351696\n",
      "epoch 125, validation loss 0.20400919020175934\n",
      "epoch 126, training loss 0.010829666629433632\n",
      "epoch 126, validation loss 0.20177435874938965\n",
      "epoch 127, training loss 0.01061623077839613\n",
      "epoch 127, validation loss 0.20128639042377472\n",
      "epoch 128, training loss 0.010392742231488228\n",
      "epoch 128, validation loss 0.2021312713623047\n",
      "epoch 129, training loss 0.010010127909481525\n",
      "epoch 129, validation loss 0.19082988798618317\n",
      "epoch 130, training loss 0.009802729822695255\n",
      "epoch 130, validation loss 0.19464796781539917\n",
      "epoch 131, training loss 0.009751319885253906\n",
      "epoch 131, validation loss 0.1897372305393219\n",
      "epoch 132, training loss 0.009403211064636707\n",
      "epoch 132, validation loss 0.19417119026184082\n",
      "epoch 133, training loss 0.009225250221788883\n",
      "epoch 133, validation loss 0.18898694217205048\n",
      "epoch 134, training loss 0.009047966450452805\n",
      "epoch 134, validation loss 0.18713068962097168\n",
      "epoch 135, training loss 0.008899718523025513\n",
      "epoch 135, validation loss 0.18886494636535645\n",
      "epoch 136, training loss 0.008632983081042767\n",
      "epoch 136, validation loss 0.18689507246017456\n",
      "Early stopping\n"
     ]
    }
   ],
   "source": [
    "fit(MLP_model, optimizer_MLP, early_stopping_MLP, train_dl)"
   ]
  },
  {
   "cell_type": "code",
   "execution_count": 39,
   "id": "edf8fed9",
   "metadata": {},
   "outputs": [],
   "source": [
    "early_stopping_MLP.load_best_model(MLP_model)"
   ]
  },
  {
   "cell_type": "code",
   "execution_count": 40,
   "id": "91fd72e4",
   "metadata": {},
   "outputs": [],
   "source": [
    "with torch.no_grad():\n",
    "    yhat_train_MLP = MLP_model(train_ds[:][0], train_ds[:][1]).cpu()\n",
    "    yhat_val_MLP = MLP_model(val_ds[:][0], val_ds[:][1]).cpu()\n",
    "    yhat_test_MLP = MLP_model(test_ds[:][0], test_ds[:][1]).cpu()"
   ]
  },
  {
   "cell_type": "code",
   "execution_count": 41,
   "id": "c0dfe49e",
   "metadata": {},
   "outputs": [
    {
     "data": {
      "text/plain": [
       "1.0"
      ]
     },
     "execution_count": 41,
     "metadata": {},
     "output_type": "execute_result"
    }
   ],
   "source": [
    "accuracy_score(np.argmax(train_ds[:][2].cpu().numpy(), axis=1), np.argmax(yhat_train_MLP.numpy(), axis=1))"
   ]
  },
  {
   "cell_type": "code",
   "execution_count": 42,
   "id": "6dcc28ab",
   "metadata": {},
   "outputs": [
    {
     "data": {
      "text/plain": [
       "0.9393939393939394"
      ]
     },
     "execution_count": 42,
     "metadata": {},
     "output_type": "execute_result"
    }
   ],
   "source": [
    "accuracy_score(np.argmax(val_ds[:][2].cpu().numpy(), axis=1), np.argmax(yhat_val_MLP.numpy(), axis=1))"
   ]
  },
  {
   "cell_type": "code",
   "execution_count": 43,
   "id": "9e0d6cec",
   "metadata": {},
   "outputs": [
    {
     "data": {
      "text/plain": [
       "0.008633193488599257"
      ]
     },
     "execution_count": 43,
     "metadata": {},
     "output_type": "execute_result"
    }
   ],
   "source": [
    "log_loss(train_ds[:][2].cpu().numpy(), softmax(yhat_train_MLP).numpy())"
   ]
  },
  {
   "cell_type": "code",
   "execution_count": 44,
   "id": "5fdcc998",
   "metadata": {},
   "outputs": [
    {
     "data": {
      "text/plain": [
       "0.1777902196292474"
      ]
     },
     "execution_count": 44,
     "metadata": {},
     "output_type": "execute_result"
    }
   ],
   "source": [
    "log_loss(val_ds[:][2].cpu().numpy(), softmax(yhat_val_MLP).numpy())"
   ]
  },
  {
   "cell_type": "code",
   "execution_count": 45,
   "id": "aa77c060",
   "metadata": {},
   "outputs": [],
   "source": [
    "yhat_proba =  softmax(yhat_test_MLP).cpu().numpy()"
   ]
  },
  {
   "cell_type": "code",
   "execution_count": 46,
   "id": "bff093f2",
   "metadata": {},
   "outputs": [],
   "source": [
    "submission = pd.DataFrame({\"id\": df_test[\"id\"]})\n",
    "for i, col in enumerate(species_dict):\n",
    "    submission[col] = yhat_proba[:, i]"
   ]
  },
  {
   "cell_type": "code",
   "execution_count": 47,
   "id": "aa96e8c1",
   "metadata": {},
   "outputs": [
    {
     "data": {
      "text/html": [
       "<div>\n",
       "<style scoped>\n",
       "    .dataframe tbody tr th:only-of-type {\n",
       "        vertical-align: middle;\n",
       "    }\n",
       "\n",
       "    .dataframe tbody tr th {\n",
       "        vertical-align: top;\n",
       "    }\n",
       "\n",
       "    .dataframe thead th {\n",
       "        text-align: right;\n",
       "    }\n",
       "</style>\n",
       "<table border=\"1\" class=\"dataframe\">\n",
       "  <thead>\n",
       "    <tr style=\"text-align: right;\">\n",
       "      <th></th>\n",
       "      <th>id</th>\n",
       "      <th>Acer_Opalus</th>\n",
       "      <th>Pterocarya_Stenoptera</th>\n",
       "      <th>Quercus_Hartwissiana</th>\n",
       "      <th>Tilia_Tomentosa</th>\n",
       "      <th>Quercus_Variabilis</th>\n",
       "      <th>Magnolia_Salicifolia</th>\n",
       "      <th>Quercus_Canariensis</th>\n",
       "      <th>Quercus_Rubra</th>\n",
       "      <th>Quercus_Brantii</th>\n",
       "      <th>...</th>\n",
       "      <th>Quercus_Ellipsoidalis</th>\n",
       "      <th>Quercus_x_Hispanica</th>\n",
       "      <th>Quercus_Shumardii</th>\n",
       "      <th>Quercus_Rhysophylla</th>\n",
       "      <th>Castanea_Sativa</th>\n",
       "      <th>Ulmus_Bergmanniana</th>\n",
       "      <th>Quercus_Nigra</th>\n",
       "      <th>Salix_Intergra</th>\n",
       "      <th>Quercus_Infectoria_sub</th>\n",
       "      <th>Sorbus_Aria</th>\n",
       "    </tr>\n",
       "  </thead>\n",
       "  <tbody>\n",
       "    <tr>\n",
       "      <th>0</th>\n",
       "      <td>4</td>\n",
       "      <td>6.361982e-03</td>\n",
       "      <td>4.016676e-10</td>\n",
       "      <td>2.421585e-05</td>\n",
       "      <td>1.368678e-08</td>\n",
       "      <td>1.479956e-04</td>\n",
       "      <td>1.040618e-12</td>\n",
       "      <td>8.254589e-07</td>\n",
       "      <td>2.220429e-10</td>\n",
       "      <td>2.474605e-08</td>\n",
       "      <td>...</td>\n",
       "      <td>3.003832e-11</td>\n",
       "      <td>1.927282e-09</td>\n",
       "      <td>2.451025e-05</td>\n",
       "      <td>4.121697e-10</td>\n",
       "      <td>7.212481e-07</td>\n",
       "      <td>5.548155e-15</td>\n",
       "      <td>6.459728e-09</td>\n",
       "      <td>3.835895e-06</td>\n",
       "      <td>2.463378e-08</td>\n",
       "      <td>3.665060e-10</td>\n",
       "    </tr>\n",
       "    <tr>\n",
       "      <th>1</th>\n",
       "      <td>7</td>\n",
       "      <td>1.301334e-04</td>\n",
       "      <td>6.906714e-10</td>\n",
       "      <td>4.123468e-08</td>\n",
       "      <td>5.320414e-07</td>\n",
       "      <td>5.767550e-07</td>\n",
       "      <td>1.196758e-13</td>\n",
       "      <td>1.596153e-04</td>\n",
       "      <td>4.922698e-08</td>\n",
       "      <td>1.087717e-03</td>\n",
       "      <td>...</td>\n",
       "      <td>2.760711e-07</td>\n",
       "      <td>4.421512e-06</td>\n",
       "      <td>3.353547e-04</td>\n",
       "      <td>3.099251e-08</td>\n",
       "      <td>5.871626e-04</td>\n",
       "      <td>8.378527e-14</td>\n",
       "      <td>2.127101e-09</td>\n",
       "      <td>1.529432e-08</td>\n",
       "      <td>3.138229e-06</td>\n",
       "      <td>4.646349e-11</td>\n",
       "    </tr>\n",
       "    <tr>\n",
       "      <th>2</th>\n",
       "      <td>9</td>\n",
       "      <td>9.287945e-09</td>\n",
       "      <td>1.479100e-08</td>\n",
       "      <td>2.804119e-09</td>\n",
       "      <td>5.018440e-08</td>\n",
       "      <td>1.311132e-08</td>\n",
       "      <td>6.575479e-14</td>\n",
       "      <td>1.481681e-11</td>\n",
       "      <td>2.170891e-07</td>\n",
       "      <td>5.969632e-13</td>\n",
       "      <td>...</td>\n",
       "      <td>1.225075e-13</td>\n",
       "      <td>1.234117e-12</td>\n",
       "      <td>6.905336e-09</td>\n",
       "      <td>4.454913e-11</td>\n",
       "      <td>8.857260e-06</td>\n",
       "      <td>7.722358e-10</td>\n",
       "      <td>2.479445e-13</td>\n",
       "      <td>1.536442e-14</td>\n",
       "      <td>2.207425e-15</td>\n",
       "      <td>8.024248e-12</td>\n",
       "    </tr>\n",
       "    <tr>\n",
       "      <th>3</th>\n",
       "      <td>12</td>\n",
       "      <td>5.381812e-08</td>\n",
       "      <td>1.069792e-08</td>\n",
       "      <td>3.510939e-09</td>\n",
       "      <td>4.072363e-04</td>\n",
       "      <td>3.977952e-09</td>\n",
       "      <td>5.158402e-19</td>\n",
       "      <td>1.404976e-09</td>\n",
       "      <td>3.941071e-07</td>\n",
       "      <td>1.464042e-07</td>\n",
       "      <td>...</td>\n",
       "      <td>8.625018e-11</td>\n",
       "      <td>1.530005e-09</td>\n",
       "      <td>1.300713e-03</td>\n",
       "      <td>2.612810e-06</td>\n",
       "      <td>9.586835e-01</td>\n",
       "      <td>7.046156e-04</td>\n",
       "      <td>5.250516e-13</td>\n",
       "      <td>3.825633e-16</td>\n",
       "      <td>5.013487e-14</td>\n",
       "      <td>4.047999e-06</td>\n",
       "    </tr>\n",
       "    <tr>\n",
       "      <th>4</th>\n",
       "      <td>13</td>\n",
       "      <td>1.192164e-11</td>\n",
       "      <td>8.139600e-07</td>\n",
       "      <td>5.397243e-15</td>\n",
       "      <td>1.696327e-06</td>\n",
       "      <td>1.147967e-12</td>\n",
       "      <td>1.332304e-22</td>\n",
       "      <td>7.465708e-16</td>\n",
       "      <td>3.993999e-10</td>\n",
       "      <td>1.613473e-13</td>\n",
       "      <td>...</td>\n",
       "      <td>1.082685e-12</td>\n",
       "      <td>1.028497e-12</td>\n",
       "      <td>1.368509e-05</td>\n",
       "      <td>1.077192e-06</td>\n",
       "      <td>2.398394e-08</td>\n",
       "      <td>5.309187e-04</td>\n",
       "      <td>3.190063e-14</td>\n",
       "      <td>1.362169e-19</td>\n",
       "      <td>1.064405e-20</td>\n",
       "      <td>4.341741e-07</td>\n",
       "    </tr>\n",
       "    <tr>\n",
       "      <th>...</th>\n",
       "      <td>...</td>\n",
       "      <td>...</td>\n",
       "      <td>...</td>\n",
       "      <td>...</td>\n",
       "      <td>...</td>\n",
       "      <td>...</td>\n",
       "      <td>...</td>\n",
       "      <td>...</td>\n",
       "      <td>...</td>\n",
       "      <td>...</td>\n",
       "      <td>...</td>\n",
       "      <td>...</td>\n",
       "      <td>...</td>\n",
       "      <td>...</td>\n",
       "      <td>...</td>\n",
       "      <td>...</td>\n",
       "      <td>...</td>\n",
       "      <td>...</td>\n",
       "      <td>...</td>\n",
       "      <td>...</td>\n",
       "      <td>...</td>\n",
       "    </tr>\n",
       "    <tr>\n",
       "      <th>589</th>\n",
       "      <td>1576</td>\n",
       "      <td>1.681604e-08</td>\n",
       "      <td>3.696166e-08</td>\n",
       "      <td>2.310651e-08</td>\n",
       "      <td>5.331329e-08</td>\n",
       "      <td>2.390784e-08</td>\n",
       "      <td>5.583567e-14</td>\n",
       "      <td>1.950390e-11</td>\n",
       "      <td>6.901726e-08</td>\n",
       "      <td>9.876775e-14</td>\n",
       "      <td>...</td>\n",
       "      <td>5.085784e-15</td>\n",
       "      <td>7.687908e-13</td>\n",
       "      <td>4.684758e-09</td>\n",
       "      <td>3.484495e-11</td>\n",
       "      <td>3.551190e-06</td>\n",
       "      <td>4.331296e-09</td>\n",
       "      <td>4.764507e-13</td>\n",
       "      <td>3.349187e-14</td>\n",
       "      <td>2.197538e-15</td>\n",
       "      <td>1.013948e-10</td>\n",
       "    </tr>\n",
       "    <tr>\n",
       "      <th>590</th>\n",
       "      <td>1577</td>\n",
       "      <td>2.102839e-05</td>\n",
       "      <td>7.496149e-09</td>\n",
       "      <td>3.564399e-07</td>\n",
       "      <td>1.440784e-04</td>\n",
       "      <td>1.080863e-08</td>\n",
       "      <td>3.971778e-20</td>\n",
       "      <td>5.368395e-09</td>\n",
       "      <td>1.479390e-11</td>\n",
       "      <td>1.696066e-05</td>\n",
       "      <td>...</td>\n",
       "      <td>2.846138e-14</td>\n",
       "      <td>1.341914e-08</td>\n",
       "      <td>3.872281e-06</td>\n",
       "      <td>1.565305e-09</td>\n",
       "      <td>1.997586e-04</td>\n",
       "      <td>3.091264e-06</td>\n",
       "      <td>2.020453e-13</td>\n",
       "      <td>5.136497e-14</td>\n",
       "      <td>1.480529e-12</td>\n",
       "      <td>3.013389e-06</td>\n",
       "    </tr>\n",
       "    <tr>\n",
       "      <th>591</th>\n",
       "      <td>1579</td>\n",
       "      <td>1.584144e-07</td>\n",
       "      <td>4.760495e-10</td>\n",
       "      <td>7.487570e-03</td>\n",
       "      <td>4.252689e-13</td>\n",
       "      <td>4.427911e-06</td>\n",
       "      <td>1.134169e-12</td>\n",
       "      <td>9.859234e-01</td>\n",
       "      <td>8.904309e-08</td>\n",
       "      <td>7.816122e-09</td>\n",
       "      <td>...</td>\n",
       "      <td>1.036749e-14</td>\n",
       "      <td>1.932826e-09</td>\n",
       "      <td>1.378611e-07</td>\n",
       "      <td>6.939472e-12</td>\n",
       "      <td>3.383562e-06</td>\n",
       "      <td>1.893239e-15</td>\n",
       "      <td>2.399333e-05</td>\n",
       "      <td>3.327832e-11</td>\n",
       "      <td>5.787322e-07</td>\n",
       "      <td>2.525150e-12</td>\n",
       "    </tr>\n",
       "    <tr>\n",
       "      <th>592</th>\n",
       "      <td>1580</td>\n",
       "      <td>1.048347e-06</td>\n",
       "      <td>1.221208e-04</td>\n",
       "      <td>7.740957e-12</td>\n",
       "      <td>1.065942e-06</td>\n",
       "      <td>4.592938e-09</td>\n",
       "      <td>9.261630e-14</td>\n",
       "      <td>4.466107e-11</td>\n",
       "      <td>5.778676e-12</td>\n",
       "      <td>3.527055e-12</td>\n",
       "      <td>...</td>\n",
       "      <td>2.139064e-07</td>\n",
       "      <td>1.386637e-04</td>\n",
       "      <td>1.439264e-07</td>\n",
       "      <td>4.091758e-09</td>\n",
       "      <td>5.296275e-07</td>\n",
       "      <td>3.696723e-12</td>\n",
       "      <td>1.138445e-12</td>\n",
       "      <td>5.686945e-06</td>\n",
       "      <td>8.437240e-05</td>\n",
       "      <td>1.642301e-13</td>\n",
       "    </tr>\n",
       "    <tr>\n",
       "      <th>593</th>\n",
       "      <td>1583</td>\n",
       "      <td>7.470974e-11</td>\n",
       "      <td>1.484094e-19</td>\n",
       "      <td>4.060443e-14</td>\n",
       "      <td>4.375217e-16</td>\n",
       "      <td>5.073457e-11</td>\n",
       "      <td>8.556881e-06</td>\n",
       "      <td>1.176108e-12</td>\n",
       "      <td>1.618998e-10</td>\n",
       "      <td>8.616512e-21</td>\n",
       "      <td>...</td>\n",
       "      <td>4.446580e-14</td>\n",
       "      <td>1.442011e-18</td>\n",
       "      <td>1.090760e-11</td>\n",
       "      <td>6.581935e-09</td>\n",
       "      <td>3.467338e-09</td>\n",
       "      <td>8.925092e-22</td>\n",
       "      <td>4.862937e-08</td>\n",
       "      <td>3.139680e-13</td>\n",
       "      <td>5.803687e-13</td>\n",
       "      <td>2.765880e-20</td>\n",
       "    </tr>\n",
       "  </tbody>\n",
       "</table>\n",
       "<p>594 rows × 100 columns</p>\n",
       "</div>"
      ],
      "text/plain": [
       "       id   Acer_Opalus  Pterocarya_Stenoptera  Quercus_Hartwissiana  \\\n",
       "0       4  6.361982e-03           4.016676e-10          2.421585e-05   \n",
       "1       7  1.301334e-04           6.906714e-10          4.123468e-08   \n",
       "2       9  9.287945e-09           1.479100e-08          2.804119e-09   \n",
       "3      12  5.381812e-08           1.069792e-08          3.510939e-09   \n",
       "4      13  1.192164e-11           8.139600e-07          5.397243e-15   \n",
       "..    ...           ...                    ...                   ...   \n",
       "589  1576  1.681604e-08           3.696166e-08          2.310651e-08   \n",
       "590  1577  2.102839e-05           7.496149e-09          3.564399e-07   \n",
       "591  1579  1.584144e-07           4.760495e-10          7.487570e-03   \n",
       "592  1580  1.048347e-06           1.221208e-04          7.740957e-12   \n",
       "593  1583  7.470974e-11           1.484094e-19          4.060443e-14   \n",
       "\n",
       "     Tilia_Tomentosa  Quercus_Variabilis  Magnolia_Salicifolia  \\\n",
       "0       1.368678e-08        1.479956e-04          1.040618e-12   \n",
       "1       5.320414e-07        5.767550e-07          1.196758e-13   \n",
       "2       5.018440e-08        1.311132e-08          6.575479e-14   \n",
       "3       4.072363e-04        3.977952e-09          5.158402e-19   \n",
       "4       1.696327e-06        1.147967e-12          1.332304e-22   \n",
       "..               ...                 ...                   ...   \n",
       "589     5.331329e-08        2.390784e-08          5.583567e-14   \n",
       "590     1.440784e-04        1.080863e-08          3.971778e-20   \n",
       "591     4.252689e-13        4.427911e-06          1.134169e-12   \n",
       "592     1.065942e-06        4.592938e-09          9.261630e-14   \n",
       "593     4.375217e-16        5.073457e-11          8.556881e-06   \n",
       "\n",
       "     Quercus_Canariensis  Quercus_Rubra  Quercus_Brantii  ...  \\\n",
       "0           8.254589e-07   2.220429e-10     2.474605e-08  ...   \n",
       "1           1.596153e-04   4.922698e-08     1.087717e-03  ...   \n",
       "2           1.481681e-11   2.170891e-07     5.969632e-13  ...   \n",
       "3           1.404976e-09   3.941071e-07     1.464042e-07  ...   \n",
       "4           7.465708e-16   3.993999e-10     1.613473e-13  ...   \n",
       "..                   ...            ...              ...  ...   \n",
       "589         1.950390e-11   6.901726e-08     9.876775e-14  ...   \n",
       "590         5.368395e-09   1.479390e-11     1.696066e-05  ...   \n",
       "591         9.859234e-01   8.904309e-08     7.816122e-09  ...   \n",
       "592         4.466107e-11   5.778676e-12     3.527055e-12  ...   \n",
       "593         1.176108e-12   1.618998e-10     8.616512e-21  ...   \n",
       "\n",
       "     Quercus_Ellipsoidalis  Quercus_x_Hispanica  Quercus_Shumardii  \\\n",
       "0             3.003832e-11         1.927282e-09       2.451025e-05   \n",
       "1             2.760711e-07         4.421512e-06       3.353547e-04   \n",
       "2             1.225075e-13         1.234117e-12       6.905336e-09   \n",
       "3             8.625018e-11         1.530005e-09       1.300713e-03   \n",
       "4             1.082685e-12         1.028497e-12       1.368509e-05   \n",
       "..                     ...                  ...                ...   \n",
       "589           5.085784e-15         7.687908e-13       4.684758e-09   \n",
       "590           2.846138e-14         1.341914e-08       3.872281e-06   \n",
       "591           1.036749e-14         1.932826e-09       1.378611e-07   \n",
       "592           2.139064e-07         1.386637e-04       1.439264e-07   \n",
       "593           4.446580e-14         1.442011e-18       1.090760e-11   \n",
       "\n",
       "     Quercus_Rhysophylla  Castanea_Sativa  Ulmus_Bergmanniana  Quercus_Nigra  \\\n",
       "0           4.121697e-10     7.212481e-07        5.548155e-15   6.459728e-09   \n",
       "1           3.099251e-08     5.871626e-04        8.378527e-14   2.127101e-09   \n",
       "2           4.454913e-11     8.857260e-06        7.722358e-10   2.479445e-13   \n",
       "3           2.612810e-06     9.586835e-01        7.046156e-04   5.250516e-13   \n",
       "4           1.077192e-06     2.398394e-08        5.309187e-04   3.190063e-14   \n",
       "..                   ...              ...                 ...            ...   \n",
       "589         3.484495e-11     3.551190e-06        4.331296e-09   4.764507e-13   \n",
       "590         1.565305e-09     1.997586e-04        3.091264e-06   2.020453e-13   \n",
       "591         6.939472e-12     3.383562e-06        1.893239e-15   2.399333e-05   \n",
       "592         4.091758e-09     5.296275e-07        3.696723e-12   1.138445e-12   \n",
       "593         6.581935e-09     3.467338e-09        8.925092e-22   4.862937e-08   \n",
       "\n",
       "     Salix_Intergra  Quercus_Infectoria_sub   Sorbus_Aria  \n",
       "0      3.835895e-06            2.463378e-08  3.665060e-10  \n",
       "1      1.529432e-08            3.138229e-06  4.646349e-11  \n",
       "2      1.536442e-14            2.207425e-15  8.024248e-12  \n",
       "3      3.825633e-16            5.013487e-14  4.047999e-06  \n",
       "4      1.362169e-19            1.064405e-20  4.341741e-07  \n",
       "..              ...                     ...           ...  \n",
       "589    3.349187e-14            2.197538e-15  1.013948e-10  \n",
       "590    5.136497e-14            1.480529e-12  3.013389e-06  \n",
       "591    3.327832e-11            5.787322e-07  2.525150e-12  \n",
       "592    5.686945e-06            8.437240e-05  1.642301e-13  \n",
       "593    3.139680e-13            5.803687e-13  2.765880e-20  \n",
       "\n",
       "[594 rows x 100 columns]"
      ]
     },
     "execution_count": 47,
     "metadata": {},
     "output_type": "execute_result"
    }
   ],
   "source": [
    "submission"
   ]
  },
  {
   "cell_type": "code",
   "execution_count": 48,
   "id": "a62797ba",
   "metadata": {},
   "outputs": [],
   "source": [
    "submission.to_csv(\"submission.csv\", index=False)"
   ]
  },
  {
   "cell_type": "markdown",
   "id": "beb79c02",
   "metadata": {},
   "source": [
    "combined model"
   ]
  },
  {
   "cell_type": "code",
   "execution_count": 49,
   "id": "04e61f09",
   "metadata": {},
   "outputs": [],
   "source": [
    "class CombinedModel(nn.Module):\n",
    "    def __init__(self):\n",
    "        super(CombinedModel, self).__init__()\n",
    "        self.base_model = CNN_model\n",
    "        self.base_model.classifier = nn.Identity()\n",
    "        self.combined_classifier = nn.Sequential(\n",
    "            nn.Linear(80 + 192, 1000),\n",
    "            nn.ReLU(),\n",
    "            nn.Dropout(0.2),\n",
    "            nn.Linear(1000, 99)\n",
    "        )\n",
    "\n",
    "    def forward(self, X_features, X_images):\n",
    "        extracted_features = self.base_model(X_features, X_images)\n",
    "        X = torch.cat([X_features, extracted_features], dim=1)\n",
    "        return self.combined_classifier(X)"
   ]
  },
  {
   "cell_type": "code",
   "execution_count": 50,
   "id": "ed6c870a",
   "metadata": {},
   "outputs": [],
   "source": [
    "combined_model = CombinedModel().to(device)"
   ]
  },
  {
   "cell_type": "code",
   "execution_count": 51,
   "id": "ef8a96c3",
   "metadata": {},
   "outputs": [],
   "source": [
    "for param in combined_model.parameters():\n",
    "    param.requires_grad = False\n",
    "\n",
    "for param in combined_model.combined_classifier.parameters():\n",
    "    param.requires_grad = True"
   ]
  },
  {
   "cell_type": "code",
   "execution_count": 52,
   "id": "d410d2b5",
   "metadata": {},
   "outputs": [
    {
     "data": {
      "text/plain": [
       "372099"
      ]
     },
     "execution_count": 52,
     "metadata": {},
     "output_type": "execute_result"
    }
   ],
   "source": [
    "sum(p.numel() for p in combined_model.parameters() if p.requires_grad)"
   ]
  },
  {
   "cell_type": "code",
   "execution_count": 53,
   "id": "823b6608",
   "metadata": {},
   "outputs": [],
   "source": [
    "optimizer_combined = torch.optim.Adam(combined_model.parameters())\n",
    "early_stopping_combined = EarlyStopping(patience=20, delta=0.01)"
   ]
  },
  {
   "cell_type": "code",
   "execution_count": 54,
   "id": "2c12509f",
   "metadata": {},
   "outputs": [
    {
     "name": "stdout",
     "output_type": "stream",
     "text": [
      "epoch 1, training loss 3.6169281005859375\n",
      "epoch 1, validation loss 3.7673757076263428\n",
      "epoch 2, training loss 2.4815635681152344\n",
      "epoch 2, validation loss 2.907327175140381\n",
      "epoch 3, training loss 1.736557126045227\n",
      "epoch 3, validation loss 2.1407759189605713\n",
      "epoch 4, training loss 1.265899896621704\n",
      "epoch 4, validation loss 1.6006829738616943\n",
      "epoch 5, training loss 0.9549893736839294\n",
      "epoch 5, validation loss 1.3501434326171875\n",
      "epoch 6, training loss 0.6632809042930603\n",
      "epoch 6, validation loss 1.1667319536209106\n",
      "epoch 7, training loss 0.46858328580856323\n",
      "epoch 7, validation loss 1.03163480758667\n",
      "epoch 8, training loss 0.4070398509502411\n",
      "epoch 8, validation loss 1.0581636428833008\n",
      "epoch 9, training loss 0.3029974400997162\n",
      "epoch 9, validation loss 0.9669012427330017\n",
      "epoch 10, training loss 0.22423982620239258\n",
      "epoch 10, validation loss 0.8072777986526489\n",
      "epoch 11, training loss 0.1788627803325653\n",
      "epoch 11, validation loss 0.7867687344551086\n",
      "epoch 12, training loss 0.14896728098392487\n",
      "epoch 12, validation loss 0.7600865960121155\n",
      "epoch 13, training loss 0.13494892418384552\n",
      "epoch 13, validation loss 0.7202959656715393\n",
      "epoch 14, training loss 0.12612849473953247\n",
      "epoch 14, validation loss 0.7201176881790161\n",
      "epoch 15, training loss 0.0927991271018982\n",
      "epoch 15, validation loss 0.664600133895874\n",
      "epoch 16, training loss 0.0904046893119812\n",
      "epoch 16, validation loss 0.6822474002838135\n",
      "epoch 17, training loss 0.09295434504747391\n",
      "epoch 17, validation loss 0.6983931064605713\n",
      "epoch 18, training loss 0.05678097531199455\n",
      "epoch 18, validation loss 0.650543749332428\n",
      "epoch 19, training loss 0.04821201041340828\n",
      "epoch 19, validation loss 0.613885223865509\n",
      "epoch 20, training loss 0.04483262822031975\n",
      "epoch 20, validation loss 0.6451690793037415\n",
      "epoch 21, training loss 0.04279426485300064\n",
      "epoch 21, validation loss 0.6468569040298462\n",
      "epoch 22, training loss 0.03264831379055977\n",
      "epoch 22, validation loss 0.6023005843162537\n",
      "epoch 23, training loss 0.02929791621863842\n",
      "epoch 23, validation loss 0.6363556385040283\n",
      "epoch 24, training loss 0.02886154130101204\n",
      "epoch 24, validation loss 0.5999899506568909\n",
      "epoch 25, training loss 0.032286979258060455\n",
      "epoch 25, validation loss 0.6207422018051147\n",
      "epoch 26, training loss 0.027254750952124596\n",
      "epoch 26, validation loss 0.7068786025047302\n",
      "epoch 27, training loss 0.022945957258343697\n",
      "epoch 27, validation loss 0.6405705213546753\n",
      "epoch 28, training loss 0.018689285963773727\n",
      "epoch 28, validation loss 0.6147208213806152\n",
      "epoch 29, training loss 0.020971007645130157\n",
      "epoch 29, validation loss 0.6301202178001404\n",
      "epoch 30, training loss 0.014048567973077297\n",
      "epoch 30, validation loss 0.5811636447906494\n",
      "epoch 31, training loss 0.015156778506934643\n",
      "epoch 31, validation loss 0.5865457653999329\n",
      "epoch 32, training loss 0.015326185151934624\n",
      "epoch 32, validation loss 0.5990707278251648\n",
      "epoch 33, training loss 0.01489726547151804\n",
      "epoch 33, validation loss 0.5806900858879089\n",
      "epoch 34, training loss 0.015221779234707355\n",
      "epoch 34, validation loss 0.6355058550834656\n",
      "epoch 35, training loss 0.012284055352210999\n",
      "epoch 35, validation loss 0.5775904655456543\n",
      "epoch 36, training loss 0.0173255056142807\n",
      "epoch 36, validation loss 0.5929277539253235\n",
      "epoch 37, training loss 0.04629921168088913\n",
      "epoch 37, validation loss 0.7654853463172913\n",
      "epoch 38, training loss 0.016242770478129387\n",
      "epoch 38, validation loss 0.6399765014648438\n",
      "epoch 39, training loss 0.010639160871505737\n",
      "epoch 39, validation loss 0.5898756384849548\n",
      "epoch 40, training loss 0.009935202077031136\n",
      "epoch 40, validation loss 0.5774053335189819\n",
      "epoch 41, training loss 0.007778225000947714\n",
      "epoch 41, validation loss 0.5795232057571411\n",
      "epoch 42, training loss 0.010582422837615013\n",
      "epoch 42, validation loss 0.6442803144454956\n",
      "epoch 43, training loss 0.015401157550513744\n",
      "epoch 43, validation loss 0.6007791757583618\n",
      "epoch 44, training loss 0.012301547452807426\n",
      "epoch 44, validation loss 0.6836627125740051\n",
      "epoch 45, training loss 0.05691021680831909\n",
      "epoch 45, validation loss 0.9867491126060486\n",
      "epoch 46, training loss 0.014346396550536156\n",
      "epoch 46, validation loss 0.588577151298523\n",
      "epoch 47, training loss 0.01927904598414898\n",
      "epoch 47, validation loss 0.6783904433250427\n",
      "epoch 48, training loss 0.00932545680552721\n",
      "epoch 48, validation loss 0.6588386297225952\n",
      "epoch 49, training loss 0.006844950374215841\n",
      "epoch 49, validation loss 0.6258881688117981\n",
      "epoch 50, training loss 0.005921694915741682\n",
      "epoch 50, validation loss 0.5706185102462769\n",
      "epoch 51, training loss 0.005107609089463949\n",
      "epoch 51, validation loss 0.5465469360351562\n",
      "epoch 52, training loss 0.003628206206485629\n",
      "epoch 52, validation loss 0.5323415994644165\n",
      "epoch 53, training loss 0.007548702415078878\n",
      "epoch 53, validation loss 0.6275382041931152\n",
      "epoch 54, training loss 0.009229323826730251\n",
      "epoch 54, validation loss 0.6555594801902771\n",
      "epoch 55, training loss 0.004304917529225349\n",
      "epoch 55, validation loss 0.5648972392082214\n",
      "epoch 56, training loss 0.003089123871177435\n",
      "epoch 56, validation loss 0.5446334481239319\n",
      "epoch 57, training loss 0.00327597395516932\n",
      "epoch 57, validation loss 0.547508955001831\n",
      "epoch 58, training loss 0.0030551906675100327\n",
      "epoch 58, validation loss 0.5433189868927002\n",
      "epoch 59, training loss 0.0025200038217008114\n",
      "epoch 59, validation loss 0.5454636812210083\n",
      "epoch 60, training loss 0.00243304087780416\n",
      "epoch 60, validation loss 0.5397453904151917\n",
      "epoch 61, training loss 0.002625557128340006\n",
      "epoch 61, validation loss 0.5624750256538391\n",
      "epoch 62, training loss 0.09818469732999802\n",
      "epoch 62, validation loss 0.7134926915168762\n",
      "epoch 63, training loss 0.0027332257013767958\n",
      "epoch 63, validation loss 0.5396634936332703\n",
      "epoch 64, training loss 0.003942536190152168\n",
      "epoch 64, validation loss 0.5822938084602356\n",
      "epoch 65, training loss 0.0026682575698941946\n",
      "epoch 65, validation loss 0.5523470640182495\n",
      "epoch 66, training loss 0.002377138938754797\n",
      "epoch 66, validation loss 0.5591808557510376\n",
      "epoch 67, training loss 0.002034890465438366\n",
      "epoch 67, validation loss 0.5565165281295776\n",
      "epoch 68, training loss 0.001826159073971212\n",
      "epoch 68, validation loss 0.5453066825866699\n",
      "epoch 69, training loss 0.00227147713303566\n",
      "epoch 69, validation loss 0.5711047053337097\n",
      "epoch 70, training loss 0.0017418729839846492\n",
      "epoch 70, validation loss 0.5650261640548706\n",
      "epoch 71, training loss 0.003155812155455351\n",
      "epoch 71, validation loss 0.5964306592941284\n",
      "epoch 72, training loss 0.0031320785637944937\n",
      "epoch 72, validation loss 0.5922628045082092\n",
      "Early stopping\n"
     ]
    }
   ],
   "source": [
    "fit(combined_model, optimizer_combined, early_stopping_combined, train_dl)"
   ]
  },
  {
   "cell_type": "code",
   "execution_count": 55,
   "id": "b6e2606c",
   "metadata": {},
   "outputs": [],
   "source": [
    "early_stopping_combined.load_best_model(combined_model)"
   ]
  },
  {
   "cell_type": "code",
   "execution_count": 56,
   "id": "cd74f8b2",
   "metadata": {},
   "outputs": [],
   "source": [
    "with torch.no_grad():\n",
    "    yhat_train_combined = combined_model(train_ds[:][0], train_ds[:][1]).cpu()\n",
    "    yhat_val_combined = combined_model(val_ds[:][0], val_ds[:][1]).cpu()"
   ]
  },
  {
   "cell_type": "code",
   "execution_count": 57,
   "id": "4062916d",
   "metadata": {},
   "outputs": [
    {
     "data": {
      "text/plain": [
       "1.0"
      ]
     },
     "execution_count": 57,
     "metadata": {},
     "output_type": "execute_result"
    }
   ],
   "source": [
    "accuracy_score(np.argmax(train_ds[:][2].cpu().numpy(), axis=1), np.argmax(yhat_train_combined.numpy(), axis=1))"
   ]
  },
  {
   "cell_type": "code",
   "execution_count": 58,
   "id": "147d8f04",
   "metadata": {},
   "outputs": [
    {
     "data": {
      "text/plain": [
       "0.8333333333333334"
      ]
     },
     "execution_count": 58,
     "metadata": {},
     "output_type": "execute_result"
    }
   ],
   "source": [
    "accuracy_score(np.argmax(val_ds[:][2].cpu().numpy(), axis=1), np.argmax(yhat_val_combined.numpy(), axis=1))"
   ]
  },
  {
   "cell_type": "code",
   "execution_count": 59,
   "id": "95e181b7",
   "metadata": {},
   "outputs": [
    {
     "data": {
      "text/plain": [
       "0.0031220655507029614"
      ]
     },
     "execution_count": 59,
     "metadata": {},
     "output_type": "execute_result"
    }
   ],
   "source": [
    "log_loss(train_ds[:][2].cpu().numpy(), softmax(yhat_train_combined).numpy())"
   ]
  },
  {
   "cell_type": "code",
   "execution_count": 60,
   "id": "18f75d3f",
   "metadata": {},
   "outputs": [
    {
     "data": {
      "text/plain": [
       "0.6824222299525275"
      ]
     },
     "execution_count": 60,
     "metadata": {},
     "output_type": "execute_result"
    }
   ],
   "source": [
    "log_loss(val_ds[:][2].cpu().numpy(), softmax(yhat_val_combined).numpy())"
   ]
  }
 ],
 "metadata": {
  "kernelspec": {
   "display_name": ".venv",
   "language": "python",
   "name": "python3"
  },
  "language_info": {
   "codemirror_mode": {
    "name": "ipython",
    "version": 3
   },
   "file_extension": ".py",
   "mimetype": "text/x-python",
   "name": "python",
   "nbconvert_exporter": "python",
   "pygments_lexer": "ipython3",
   "version": "3.10.11"
  }
 },
 "nbformat": 4,
 "nbformat_minor": 5
}
