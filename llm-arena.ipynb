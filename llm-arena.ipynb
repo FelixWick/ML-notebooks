{
 "cells": [
  {
   "cell_type": "code",
   "execution_count": 1,
   "id": "5a3fd911",
   "metadata": {},
   "outputs": [
    {
     "name": "stdout",
     "output_type": "stream",
     "text": [
      "Requirement already satisfied: transformers==4.30.2 in c:\\users\\70p6229\\computer_vision\\examples\\pytorch\\.venv\\lib\\site-packages (4.30.2)\n",
      "Requirement already satisfied: filelock in c:\\users\\70p6229\\computer_vision\\examples\\pytorch\\.venv\\lib\\site-packages (from transformers==4.30.2) (3.18.0)\n",
      "Requirement already satisfied: huggingface-hub<1.0,>=0.14.1 in c:\\users\\70p6229\\computer_vision\\examples\\pytorch\\.venv\\lib\\site-packages (from transformers==4.30.2) (0.30.1)\n",
      "Requirement already satisfied: numpy>=1.17 in c:\\users\\70p6229\\computer_vision\\examples\\pytorch\\.venv\\lib\\site-packages (from transformers==4.30.2) (1.26.4)\n",
      "Requirement already satisfied: packaging>=20.0 in c:\\users\\70p6229\\computer_vision\\examples\\pytorch\\.venv\\lib\\site-packages (from transformers==4.30.2) (24.2)\n",
      "Requirement already satisfied: pyyaml>=5.1 in c:\\users\\70p6229\\computer_vision\\examples\\pytorch\\.venv\\lib\\site-packages (from transformers==4.30.2) (6.0.2)\n",
      "Requirement already satisfied: regex!=2019.12.17 in c:\\users\\70p6229\\computer_vision\\examples\\pytorch\\.venv\\lib\\site-packages (from transformers==4.30.2) (2024.11.6)\n",
      "Requirement already satisfied: requests in c:\\users\\70p6229\\computer_vision\\examples\\pytorch\\.venv\\lib\\site-packages (from transformers==4.30.2) (2.32.3)\n",
      "Requirement already satisfied: tokenizers!=0.11.3,<0.14,>=0.11.1 in c:\\users\\70p6229\\computer_vision\\examples\\pytorch\\.venv\\lib\\site-packages (from transformers==4.30.2) (0.13.3)\n",
      "Requirement already satisfied: safetensors>=0.3.1 in c:\\users\\70p6229\\computer_vision\\examples\\pytorch\\.venv\\lib\\site-packages (from transformers==4.30.2) (0.5.3)\n",
      "Requirement already satisfied: tqdm>=4.27 in c:\\users\\70p6229\\computer_vision\\examples\\pytorch\\.venv\\lib\\site-packages (from transformers==4.30.2) (4.67.1)\n",
      "Requirement already satisfied: fsspec>=2023.5.0 in c:\\users\\70p6229\\computer_vision\\examples\\pytorch\\.venv\\lib\\site-packages (from huggingface-hub<1.0,>=0.14.1->transformers==4.30.2) (2024.12.0)\n",
      "Requirement already satisfied: typing-extensions>=3.7.4.3 in c:\\users\\70p6229\\computer_vision\\examples\\pytorch\\.venv\\lib\\site-packages (from huggingface-hub<1.0,>=0.14.1->transformers==4.30.2) (4.12.2)\n",
      "Requirement already satisfied: colorama in c:\\users\\70p6229\\computer_vision\\examples\\pytorch\\.venv\\lib\\site-packages (from tqdm>=4.27->transformers==4.30.2) (0.4.6)\n",
      "Requirement already satisfied: charset-normalizer<4,>=2 in c:\\users\\70p6229\\computer_vision\\examples\\pytorch\\.venv\\lib\\site-packages (from requests->transformers==4.30.2) (3.4.1)\n",
      "Requirement already satisfied: idna<4,>=2.5 in c:\\users\\70p6229\\computer_vision\\examples\\pytorch\\.venv\\lib\\site-packages (from requests->transformers==4.30.2) (3.10)\n",
      "Requirement already satisfied: urllib3<3,>=1.21.1 in c:\\users\\70p6229\\computer_vision\\examples\\pytorch\\.venv\\lib\\site-packages (from requests->transformers==4.30.2) (2.3.0)\n",
      "Requirement already satisfied: certifi>=2017.4.17 in c:\\users\\70p6229\\computer_vision\\examples\\pytorch\\.venv\\lib\\site-packages (from requests->transformers==4.30.2) (2025.1.31)\n",
      "Requirement already satisfied: datasets in c:\\users\\70p6229\\computer_vision\\examples\\pytorch\\.venv\\lib\\site-packages (3.5.0)\n",
      "Requirement already satisfied: filelock in c:\\users\\70p6229\\computer_vision\\examples\\pytorch\\.venv\\lib\\site-packages (from datasets) (3.18.0)\n",
      "Requirement already satisfied: numpy>=1.17 in c:\\users\\70p6229\\computer_vision\\examples\\pytorch\\.venv\\lib\\site-packages (from datasets) (1.26.4)\n",
      "Requirement already satisfied: pyarrow>=15.0.0 in c:\\users\\70p6229\\computer_vision\\examples\\pytorch\\.venv\\lib\\site-packages (from datasets) (19.0.1)\n",
      "Requirement already satisfied: dill<0.3.9,>=0.3.0 in c:\\users\\70p6229\\computer_vision\\examples\\pytorch\\.venv\\lib\\site-packages (from datasets) (0.3.8)\n",
      "Requirement already satisfied: pandas in c:\\users\\70p6229\\computer_vision\\examples\\pytorch\\.venv\\lib\\site-packages (from datasets) (2.2.3)\n",
      "Requirement already satisfied: requests>=2.32.2 in c:\\users\\70p6229\\computer_vision\\examples\\pytorch\\.venv\\lib\\site-packages (from datasets) (2.32.3)\n",
      "Requirement already satisfied: tqdm>=4.66.3 in c:\\users\\70p6229\\computer_vision\\examples\\pytorch\\.venv\\lib\\site-packages (from datasets) (4.67.1)\n",
      "Requirement already satisfied: xxhash in c:\\users\\70p6229\\computer_vision\\examples\\pytorch\\.venv\\lib\\site-packages (from datasets) (3.5.0)\n",
      "Requirement already satisfied: multiprocess<0.70.17 in c:\\users\\70p6229\\computer_vision\\examples\\pytorch\\.venv\\lib\\site-packages (from datasets) (0.70.16)\n",
      "Requirement already satisfied: fsspec<=2024.12.0,>=2023.1.0 in c:\\users\\70p6229\\computer_vision\\examples\\pytorch\\.venv\\lib\\site-packages (from fsspec[http]<=2024.12.0,>=2023.1.0->datasets) (2024.12.0)\n",
      "Requirement already satisfied: aiohttp in c:\\users\\70p6229\\computer_vision\\examples\\pytorch\\.venv\\lib\\site-packages (from datasets) (3.11.18)\n",
      "Requirement already satisfied: huggingface-hub>=0.24.0 in c:\\users\\70p6229\\computer_vision\\examples\\pytorch\\.venv\\lib\\site-packages (from datasets) (0.30.1)\n",
      "Requirement already satisfied: packaging in c:\\users\\70p6229\\computer_vision\\examples\\pytorch\\.venv\\lib\\site-packages (from datasets) (24.2)\n",
      "Requirement already satisfied: pyyaml>=5.1 in c:\\users\\70p6229\\computer_vision\\examples\\pytorch\\.venv\\lib\\site-packages (from datasets) (6.0.2)\n",
      "Requirement already satisfied: aiohappyeyeballs>=2.3.0 in c:\\users\\70p6229\\computer_vision\\examples\\pytorch\\.venv\\lib\\site-packages (from aiohttp->datasets) (2.6.1)\n",
      "Requirement already satisfied: aiosignal>=1.1.2 in c:\\users\\70p6229\\computer_vision\\examples\\pytorch\\.venv\\lib\\site-packages (from aiohttp->datasets) (1.3.2)\n",
      "Requirement already satisfied: async-timeout<6.0,>=4.0 in c:\\users\\70p6229\\computer_vision\\examples\\pytorch\\.venv\\lib\\site-packages (from aiohttp->datasets) (5.0.1)\n",
      "Requirement already satisfied: attrs>=17.3.0 in c:\\users\\70p6229\\computer_vision\\examples\\pytorch\\.venv\\lib\\site-packages (from aiohttp->datasets) (25.3.0)\n",
      "Requirement already satisfied: frozenlist>=1.1.1 in c:\\users\\70p6229\\computer_vision\\examples\\pytorch\\.venv\\lib\\site-packages (from aiohttp->datasets) (1.6.0)\n",
      "Requirement already satisfied: multidict<7.0,>=4.5 in c:\\users\\70p6229\\computer_vision\\examples\\pytorch\\.venv\\lib\\site-packages (from aiohttp->datasets) (6.4.3)\n",
      "Requirement already satisfied: propcache>=0.2.0 in c:\\users\\70p6229\\computer_vision\\examples\\pytorch\\.venv\\lib\\site-packages (from aiohttp->datasets) (0.3.1)\n",
      "Requirement already satisfied: yarl<2.0,>=1.17.0 in c:\\users\\70p6229\\computer_vision\\examples\\pytorch\\.venv\\lib\\site-packages (from aiohttp->datasets) (1.20.0)\n",
      "Requirement already satisfied: typing-extensions>=3.7.4.3 in c:\\users\\70p6229\\computer_vision\\examples\\pytorch\\.venv\\lib\\site-packages (from huggingface-hub>=0.24.0->datasets) (4.12.2)\n",
      "Requirement already satisfied: charset-normalizer<4,>=2 in c:\\users\\70p6229\\computer_vision\\examples\\pytorch\\.venv\\lib\\site-packages (from requests>=2.32.2->datasets) (3.4.1)\n",
      "Requirement already satisfied: idna<4,>=2.5 in c:\\users\\70p6229\\computer_vision\\examples\\pytorch\\.venv\\lib\\site-packages (from requests>=2.32.2->datasets) (3.10)\n",
      "Requirement already satisfied: urllib3<3,>=1.21.1 in c:\\users\\70p6229\\computer_vision\\examples\\pytorch\\.venv\\lib\\site-packages (from requests>=2.32.2->datasets) (2.3.0)\n",
      "Requirement already satisfied: certifi>=2017.4.17 in c:\\users\\70p6229\\computer_vision\\examples\\pytorch\\.venv\\lib\\site-packages (from requests>=2.32.2->datasets) (2025.1.31)\n",
      "Requirement already satisfied: colorama in c:\\users\\70p6229\\computer_vision\\examples\\pytorch\\.venv\\lib\\site-packages (from tqdm>=4.66.3->datasets) (0.4.6)\n",
      "Requirement already satisfied: python-dateutil>=2.8.2 in c:\\users\\70p6229\\computer_vision\\examples\\pytorch\\.venv\\lib\\site-packages (from pandas->datasets) (2.9.0.post0)\n",
      "Requirement already satisfied: pytz>=2020.1 in c:\\users\\70p6229\\computer_vision\\examples\\pytorch\\.venv\\lib\\site-packages (from pandas->datasets) (2025.1)\n",
      "Requirement already satisfied: tzdata>=2022.7 in c:\\users\\70p6229\\computer_vision\\examples\\pytorch\\.venv\\lib\\site-packages (from pandas->datasets) (2025.1)\n",
      "Requirement already satisfied: six>=1.5 in c:\\users\\70p6229\\computer_vision\\examples\\pytorch\\.venv\\lib\\site-packages (from python-dateutil>=2.8.2->pandas->datasets) (1.17.0)\n",
      "Requirement already satisfied: evaluate in c:\\users\\70p6229\\computer_vision\\examples\\pytorch\\.venv\\lib\\site-packages (0.4.3)\n",
      "Requirement already satisfied: datasets>=2.0.0 in c:\\users\\70p6229\\computer_vision\\examples\\pytorch\\.venv\\lib\\site-packages (from evaluate) (3.5.0)\n",
      "Requirement already satisfied: numpy>=1.17 in c:\\users\\70p6229\\computer_vision\\examples\\pytorch\\.venv\\lib\\site-packages (from evaluate) (1.26.4)\n",
      "Requirement already satisfied: dill in c:\\users\\70p6229\\computer_vision\\examples\\pytorch\\.venv\\lib\\site-packages (from evaluate) (0.3.8)\n",
      "Requirement already satisfied: pandas in c:\\users\\70p6229\\computer_vision\\examples\\pytorch\\.venv\\lib\\site-packages (from evaluate) (2.2.3)\n",
      "Requirement already satisfied: requests>=2.19.0 in c:\\users\\70p6229\\computer_vision\\examples\\pytorch\\.venv\\lib\\site-packages (from evaluate) (2.32.3)\n",
      "Requirement already satisfied: tqdm>=4.62.1 in c:\\users\\70p6229\\computer_vision\\examples\\pytorch\\.venv\\lib\\site-packages (from evaluate) (4.67.1)\n",
      "Requirement already satisfied: xxhash in c:\\users\\70p6229\\computer_vision\\examples\\pytorch\\.venv\\lib\\site-packages (from evaluate) (3.5.0)\n",
      "Requirement already satisfied: multiprocess in c:\\users\\70p6229\\computer_vision\\examples\\pytorch\\.venv\\lib\\site-packages (from evaluate) (0.70.16)\n",
      "Requirement already satisfied: fsspec>=2021.05.0 in c:\\users\\70p6229\\computer_vision\\examples\\pytorch\\.venv\\lib\\site-packages (from fsspec[http]>=2021.05.0->evaluate) (2024.12.0)\n",
      "Requirement already satisfied: huggingface-hub>=0.7.0 in c:\\users\\70p6229\\computer_vision\\examples\\pytorch\\.venv\\lib\\site-packages (from evaluate) (0.30.1)\n",
      "Requirement already satisfied: packaging in c:\\users\\70p6229\\computer_vision\\examples\\pytorch\\.venv\\lib\\site-packages (from evaluate) (24.2)\n",
      "Requirement already satisfied: filelock in c:\\users\\70p6229\\computer_vision\\examples\\pytorch\\.venv\\lib\\site-packages (from datasets>=2.0.0->evaluate) (3.18.0)\n",
      "Requirement already satisfied: pyarrow>=15.0.0 in c:\\users\\70p6229\\computer_vision\\examples\\pytorch\\.venv\\lib\\site-packages (from datasets>=2.0.0->evaluate) (19.0.1)\n",
      "Requirement already satisfied: aiohttp in c:\\users\\70p6229\\computer_vision\\examples\\pytorch\\.venv\\lib\\site-packages (from datasets>=2.0.0->evaluate) (3.11.18)\n",
      "Requirement already satisfied: pyyaml>=5.1 in c:\\users\\70p6229\\computer_vision\\examples\\pytorch\\.venv\\lib\\site-packages (from datasets>=2.0.0->evaluate) (6.0.2)\n",
      "Requirement already satisfied: typing-extensions>=3.7.4.3 in c:\\users\\70p6229\\computer_vision\\examples\\pytorch\\.venv\\lib\\site-packages (from huggingface-hub>=0.7.0->evaluate) (4.12.2)\n",
      "Requirement already satisfied: charset-normalizer<4,>=2 in c:\\users\\70p6229\\computer_vision\\examples\\pytorch\\.venv\\lib\\site-packages (from requests>=2.19.0->evaluate) (3.4.1)\n",
      "Requirement already satisfied: idna<4,>=2.5 in c:\\users\\70p6229\\computer_vision\\examples\\pytorch\\.venv\\lib\\site-packages (from requests>=2.19.0->evaluate) (3.10)\n",
      "Requirement already satisfied: urllib3<3,>=1.21.1 in c:\\users\\70p6229\\computer_vision\\examples\\pytorch\\.venv\\lib\\site-packages (from requests>=2.19.0->evaluate) (2.3.0)\n",
      "Requirement already satisfied: certifi>=2017.4.17 in c:\\users\\70p6229\\computer_vision\\examples\\pytorch\\.venv\\lib\\site-packages (from requests>=2.19.0->evaluate) (2025.1.31)\n",
      "Requirement already satisfied: colorama in c:\\users\\70p6229\\computer_vision\\examples\\pytorch\\.venv\\lib\\site-packages (from tqdm>=4.62.1->evaluate) (0.4.6)\n",
      "Requirement already satisfied: python-dateutil>=2.8.2 in c:\\users\\70p6229\\computer_vision\\examples\\pytorch\\.venv\\lib\\site-packages (from pandas->evaluate) (2.9.0.post0)\n",
      "Requirement already satisfied: pytz>=2020.1 in c:\\users\\70p6229\\computer_vision\\examples\\pytorch\\.venv\\lib\\site-packages (from pandas->evaluate) (2025.1)\n",
      "Requirement already satisfied: tzdata>=2022.7 in c:\\users\\70p6229\\computer_vision\\examples\\pytorch\\.venv\\lib\\site-packages (from pandas->evaluate) (2025.1)\n",
      "Requirement already satisfied: aiohappyeyeballs>=2.3.0 in c:\\users\\70p6229\\computer_vision\\examples\\pytorch\\.venv\\lib\\site-packages (from aiohttp->datasets>=2.0.0->evaluate) (2.6.1)\n",
      "Requirement already satisfied: aiosignal>=1.1.2 in c:\\users\\70p6229\\computer_vision\\examples\\pytorch\\.venv\\lib\\site-packages (from aiohttp->datasets>=2.0.0->evaluate) (1.3.2)\n",
      "Requirement already satisfied: async-timeout<6.0,>=4.0 in c:\\users\\70p6229\\computer_vision\\examples\\pytorch\\.venv\\lib\\site-packages (from aiohttp->datasets>=2.0.0->evaluate) (5.0.1)\n",
      "Requirement already satisfied: attrs>=17.3.0 in c:\\users\\70p6229\\computer_vision\\examples\\pytorch\\.venv\\lib\\site-packages (from aiohttp->datasets>=2.0.0->evaluate) (25.3.0)\n",
      "Requirement already satisfied: frozenlist>=1.1.1 in c:\\users\\70p6229\\computer_vision\\examples\\pytorch\\.venv\\lib\\site-packages (from aiohttp->datasets>=2.0.0->evaluate) (1.6.0)\n",
      "Requirement already satisfied: multidict<7.0,>=4.5 in c:\\users\\70p6229\\computer_vision\\examples\\pytorch\\.venv\\lib\\site-packages (from aiohttp->datasets>=2.0.0->evaluate) (6.4.3)\n",
      "Requirement already satisfied: propcache>=0.2.0 in c:\\users\\70p6229\\computer_vision\\examples\\pytorch\\.venv\\lib\\site-packages (from aiohttp->datasets>=2.0.0->evaluate) (0.3.1)\n",
      "Requirement already satisfied: yarl<2.0,>=1.17.0 in c:\\users\\70p6229\\computer_vision\\examples\\pytorch\\.venv\\lib\\site-packages (from aiohttp->datasets>=2.0.0->evaluate) (1.20.0)\n",
      "Requirement already satisfied: six>=1.5 in c:\\users\\70p6229\\computer_vision\\examples\\pytorch\\.venv\\lib\\site-packages (from python-dateutil>=2.8.2->pandas->evaluate) (1.17.0)\n",
      "Requirement already satisfied: accelerate in c:\\users\\70p6229\\computer_vision\\examples\\pytorch\\.venv\\lib\\site-packages (1.6.0)\n",
      "Requirement already satisfied: numpy<3.0.0,>=1.17 in c:\\users\\70p6229\\computer_vision\\examples\\pytorch\\.venv\\lib\\site-packages (from accelerate) (1.26.4)\n",
      "Requirement already satisfied: packaging>=20.0 in c:\\users\\70p6229\\computer_vision\\examples\\pytorch\\.venv\\lib\\site-packages (from accelerate) (24.2)\n",
      "Requirement already satisfied: psutil in c:\\users\\70p6229\\computer_vision\\examples\\pytorch\\.venv\\lib\\site-packages (from accelerate) (7.0.0)\n",
      "Requirement already satisfied: pyyaml in c:\\users\\70p6229\\computer_vision\\examples\\pytorch\\.venv\\lib\\site-packages (from accelerate) (6.0.2)\n",
      "Requirement already satisfied: torch>=2.0.0 in c:\\users\\70p6229\\computer_vision\\examples\\pytorch\\.venv\\lib\\site-packages (from accelerate) (2.6.0)\n",
      "Requirement already satisfied: huggingface-hub>=0.21.0 in c:\\users\\70p6229\\computer_vision\\examples\\pytorch\\.venv\\lib\\site-packages (from accelerate) (0.30.1)\n",
      "Requirement already satisfied: safetensors>=0.4.3 in c:\\users\\70p6229\\computer_vision\\examples\\pytorch\\.venv\\lib\\site-packages (from accelerate) (0.5.3)\n",
      "Requirement already satisfied: filelock in c:\\users\\70p6229\\computer_vision\\examples\\pytorch\\.venv\\lib\\site-packages (from huggingface-hub>=0.21.0->accelerate) (3.18.0)\n",
      "Requirement already satisfied: fsspec>=2023.5.0 in c:\\users\\70p6229\\computer_vision\\examples\\pytorch\\.venv\\lib\\site-packages (from huggingface-hub>=0.21.0->accelerate) (2024.12.0)\n",
      "Requirement already satisfied: requests in c:\\users\\70p6229\\computer_vision\\examples\\pytorch\\.venv\\lib\\site-packages (from huggingface-hub>=0.21.0->accelerate) (2.32.3)\n",
      "Requirement already satisfied: tqdm>=4.42.1 in c:\\users\\70p6229\\computer_vision\\examples\\pytorch\\.venv\\lib\\site-packages (from huggingface-hub>=0.21.0->accelerate) (4.67.1)\n",
      "Requirement already satisfied: typing-extensions>=3.7.4.3 in c:\\users\\70p6229\\computer_vision\\examples\\pytorch\\.venv\\lib\\site-packages (from huggingface-hub>=0.21.0->accelerate) (4.12.2)\n",
      "Requirement already satisfied: networkx in c:\\users\\70p6229\\computer_vision\\examples\\pytorch\\.venv\\lib\\site-packages (from torch>=2.0.0->accelerate) (3.4.2)\n",
      "Requirement already satisfied: jinja2 in c:\\users\\70p6229\\computer_vision\\examples\\pytorch\\.venv\\lib\\site-packages (from torch>=2.0.0->accelerate) (3.1.6)\n",
      "Requirement already satisfied: sympy==1.13.1 in c:\\users\\70p6229\\computer_vision\\examples\\pytorch\\.venv\\lib\\site-packages (from torch>=2.0.0->accelerate) (1.13.1)\n",
      "Requirement already satisfied: mpmath<1.4,>=1.1.0 in c:\\users\\70p6229\\computer_vision\\examples\\pytorch\\.venv\\lib\\site-packages (from sympy==1.13.1->torch>=2.0.0->accelerate) (1.3.0)\n",
      "Requirement already satisfied: colorama in c:\\users\\70p6229\\computer_vision\\examples\\pytorch\\.venv\\lib\\site-packages (from tqdm>=4.42.1->huggingface-hub>=0.21.0->accelerate) (0.4.6)\n",
      "Requirement already satisfied: MarkupSafe>=2.0 in c:\\users\\70p6229\\computer_vision\\examples\\pytorch\\.venv\\lib\\site-packages (from jinja2->torch>=2.0.0->accelerate) (3.0.2)\n",
      "Requirement already satisfied: charset-normalizer<4,>=2 in c:\\users\\70p6229\\computer_vision\\examples\\pytorch\\.venv\\lib\\site-packages (from requests->huggingface-hub>=0.21.0->accelerate) (3.4.1)\n",
      "Requirement already satisfied: idna<4,>=2.5 in c:\\users\\70p6229\\computer_vision\\examples\\pytorch\\.venv\\lib\\site-packages (from requests->huggingface-hub>=0.21.0->accelerate) (3.10)\n",
      "Requirement already satisfied: urllib3<3,>=1.21.1 in c:\\users\\70p6229\\computer_vision\\examples\\pytorch\\.venv\\lib\\site-packages (from requests->huggingface-hub>=0.21.0->accelerate) (2.3.0)\n",
      "Requirement already satisfied: certifi>=2017.4.17 in c:\\users\\70p6229\\computer_vision\\examples\\pytorch\\.venv\\lib\\site-packages (from requests->huggingface-hub>=0.21.0->accelerate) (2025.1.31)\n"
     ]
    }
   ],
   "source": [
    "! pip install transformers==4.30.2\n",
    "! pip install datasets\n",
    "! pip install evaluate\n",
    "! pip install accelerate"
   ]
  },
  {
   "cell_type": "code",
   "execution_count": 2,
   "id": "acc119a4",
   "metadata": {},
   "outputs": [],
   "source": [
    "import torch\n",
    "from transformers import AutoTokenizer, DistilBertForSequenceClassification, TrainingArguments, Trainer\n",
    "import pandas as pd\n",
    "import numpy as np\n",
    "from sklearn.model_selection import train_test_split\n",
    "from sklearn.metrics import accuracy_score, log_loss\n",
    "from datasets import Dataset\n",
    "import evaluate"
   ]
  },
  {
   "cell_type": "code",
   "execution_count": 3,
   "id": "4500e67a",
   "metadata": {},
   "outputs": [
    {
     "data": {
      "text/plain": [
       "device(type='cpu')"
      ]
     },
     "execution_count": 3,
     "metadata": {},
     "output_type": "execute_result"
    }
   ],
   "source": [
    "if torch.cuda.is_available():\n",
    "    dev = \"cuda:0\"\n",
    "else:\n",
    "    dev = \"cpu\"\n",
    "device = torch.device(dev)\n",
    "device"
   ]
  },
  {
   "cell_type": "code",
   "execution_count": 4,
   "id": "858828a4",
   "metadata": {},
   "outputs": [],
   "source": [
    "df_train = pd.read_csv(\"llm-classification-finetuning/train.csv\")\n",
    "df_test = pd.read_csv(\"llm-classification-finetuning/test.csv\")"
   ]
  },
  {
   "cell_type": "code",
   "execution_count": 5,
   "id": "26e8a75c",
   "metadata": {},
   "outputs": [
    {
     "name": "stderr",
     "output_type": "stream",
     "text": [
      "c:\\Users\\70p6229\\computer_vision\\examples\\pytorch\\.venv\\lib\\site-packages\\huggingface_hub\\file_download.py:896: FutureWarning: `resume_download` is deprecated and will be removed in version 1.0.0. Downloads always resume when possible. If you want to force a new download, use `force_download=True`.\n",
      "  warnings.warn(\n"
     ]
    }
   ],
   "source": [
    "tokenizer = AutoTokenizer.from_pretrained(\"distilbert-base-uncased\")"
   ]
  },
  {
   "cell_type": "code",
   "execution_count": 6,
   "id": "ee1e85d6",
   "metadata": {},
   "outputs": [
    {
     "name": "stderr",
     "output_type": "stream",
     "text": [
      "Some weights of the model checkpoint at distilbert-base-uncased were not used when initializing DistilBertForSequenceClassification: ['vocab_layer_norm.weight', 'vocab_transform.weight', 'vocab_transform.bias', 'vocab_projector.bias', 'vocab_layer_norm.bias']\n",
      "- This IS expected if you are initializing DistilBertForSequenceClassification from the checkpoint of a model trained on another task or with another architecture (e.g. initializing a BertForSequenceClassification model from a BertForPreTraining model).\n",
      "- This IS NOT expected if you are initializing DistilBertForSequenceClassification from the checkpoint of a model that you expect to be exactly identical (initializing a BertForSequenceClassification model from a BertForSequenceClassification model).\n",
      "Some weights of DistilBertForSequenceClassification were not initialized from the model checkpoint at distilbert-base-uncased and are newly initialized: ['classifier.bias', 'pre_classifier.bias', 'pre_classifier.weight', 'classifier.weight']\n",
      "You should probably TRAIN this model on a down-stream task to be able to use it for predictions and inference.\n"
     ]
    }
   ],
   "source": [
    "model = DistilBertForSequenceClassification.from_pretrained(\n",
    "    \"distilbert-base-uncased\",\n",
    "    num_labels = 3,\n",
    ").to(device)"
   ]
  },
  {
   "cell_type": "code",
   "execution_count": 7,
   "id": "c9b6f5c0",
   "metadata": {},
   "outputs": [
    {
     "data": {
      "text/plain": [
       "66955779"
      ]
     },
     "execution_count": 7,
     "metadata": {},
     "output_type": "execute_result"
    }
   ],
   "source": [
    "sum(p.numel() for p in model.parameters() if p.requires_grad)"
   ]
  },
  {
   "cell_type": "code",
   "execution_count": 8,
   "id": "7e84c08d",
   "metadata": {},
   "outputs": [],
   "source": [
    "df_train['text'] = 'prompt' + df_train['prompt'] + 'response_a' + df_train['response_a'] + 'response_b' + df_train['response_b']"
   ]
  },
  {
   "cell_type": "code",
   "execution_count": 9,
   "id": "a00f5e89",
   "metadata": {},
   "outputs": [],
   "source": [
    "df_train['label'] = np.argmax(df_train[['winner_model_a', 'winner_model_b', 'winner_tie']], axis=1)"
   ]
  },
  {
   "cell_type": "code",
   "execution_count": 10,
   "id": "849c13a0",
   "metadata": {},
   "outputs": [],
   "source": [
    "df_train = df_train[['text', 'label']]"
   ]
  },
  {
   "cell_type": "code",
   "execution_count": 11,
   "id": "45db7770",
   "metadata": {},
   "outputs": [],
   "source": [
    "df_train, df_val = train_test_split(df_train, test_size=0.2)"
   ]
  },
  {
   "cell_type": "code",
   "execution_count": 12,
   "id": "cfdcb1ac",
   "metadata": {},
   "outputs": [],
   "source": [
    "train_data = Dataset.from_pandas(df_train)\n",
    "val_data = Dataset.from_pandas(df_val)"
   ]
  },
  {
   "cell_type": "code",
   "execution_count": 13,
   "id": "109bb23e",
   "metadata": {},
   "outputs": [
    {
     "data": {
      "application/vnd.jupyter.widget-view+json": {
       "model_id": "2474083ceb1c426ea7ee5fb94c66eafd",
       "version_major": 2,
       "version_minor": 0
      },
      "text/plain": [
       "Map:   0%|          | 0/45981 [00:00<?, ? examples/s]"
      ]
     },
     "metadata": {},
     "output_type": "display_data"
    },
    {
     "data": {
      "application/vnd.jupyter.widget-view+json": {
       "model_id": "fc054948bfb7455ab2bfbfdf47351b4f",
       "version_major": 2,
       "version_minor": 0
      },
      "text/plain": [
       "Map:   0%|          | 0/11496 [00:00<?, ? examples/s]"
      ]
     },
     "metadata": {},
     "output_type": "display_data"
    }
   ],
   "source": [
    "train_data = train_data.map(lambda samples: tokenizer(samples[\"text\"], padding=\"longest\", truncation=True), batched=True)\n",
    "train_data = train_data.remove_columns(['__index_level_0__'])\n",
    "val_data = val_data.map(lambda samples: tokenizer(samples[\"text\"], padding=\"longest\", truncation=True), batched=True)\n",
    "val_data = val_data.remove_columns(['__index_level_0__'])"
   ]
  },
  {
   "cell_type": "code",
   "execution_count": 14,
   "id": "2135864b",
   "metadata": {},
   "outputs": [],
   "source": [
    "training_args = TrainingArguments(\n",
    "    output_dir=\"outputs\",\n",
    "    num_train_epochs=1,\n",
    "    evaluation_strategy=\"epoch\"\n",
    ")"
   ]
  },
  {
   "cell_type": "code",
   "execution_count": 15,
   "id": "83d51a5e",
   "metadata": {},
   "outputs": [
    {
     "name": "stderr",
     "output_type": "stream",
     "text": [
      "Using the latest cached version of the module from C:\\Users\\70p6229\\.cache\\huggingface\\modules\\evaluate_modules\\metrics\\evaluate-metric--accuracy\\f887c0aab52c2d38e1f8a215681126379eca617f96c447638f751434e8e65b14 (last modified on Fri Apr  5 09:13:55 2024) since it couldn't be found locally at evaluate-metric--accuracy, or remotely on the Hugging Face Hub.\n"
     ]
    }
   ],
   "source": [
    "metric = evaluate.load(\"accuracy\")\n",
    "\n",
    "def compute_metrics(eval_pred):\n",
    "    logits, labels = eval_pred\n",
    "    predictions = np.argmax(logits, axis=-1)\n",
    "    return metric.compute(predictions=predictions, references=labels)"
   ]
  },
  {
   "cell_type": "code",
   "execution_count": 16,
   "id": "7c2abeed",
   "metadata": {},
   "outputs": [
    {
     "name": "stderr",
     "output_type": "stream",
     "text": [
      "c:\\Users\\70p6229\\computer_vision\\examples\\pytorch\\.venv\\lib\\site-packages\\transformers\\optimization.py:411: FutureWarning: This implementation of AdamW is deprecated and will be removed in a future version. Use the PyTorch implementation torch.optim.AdamW instead, or set `no_deprecation_warning=True` to disable this warning\n",
      "  warnings.warn(\n"
     ]
    },
    {
     "data": {
      "application/vnd.jupyter.widget-view+json": {
       "model_id": "e237b93f819345a9a35ec7717bbc0460",
       "version_major": 2,
       "version_minor": 0
      },
      "text/plain": [
       "  0%|          | 0/5748 [00:00<?, ?it/s]"
      ]
     },
     "metadata": {},
     "output_type": "display_data"
    },
    {
     "name": "stdout",
     "output_type": "stream",
     "text": [
      "{'loss': 1.1027, 'learning_rate': 4.565066109951287e-05, 'epoch': 0.09}\n",
      "{'loss': 1.0982, 'learning_rate': 4.130132219902575e-05, 'epoch': 0.17}\n",
      "{'loss': 1.0979, 'learning_rate': 3.695198329853862e-05, 'epoch': 0.26}\n",
      "{'loss': 1.1034, 'learning_rate': 3.26026443980515e-05, 'epoch': 0.35}\n",
      "{'loss': 1.1092, 'learning_rate': 2.8253305497564368e-05, 'epoch': 0.43}\n",
      "{'loss': 1.0946, 'learning_rate': 2.3903966597077245e-05, 'epoch': 0.52}\n",
      "{'loss': 1.0964, 'learning_rate': 1.955462769659012e-05, 'epoch': 0.61}\n",
      "{'loss': 1.0977, 'learning_rate': 1.5205288796102993e-05, 'epoch': 0.7}\n",
      "{'loss': 1.0899, 'learning_rate': 1.0855949895615868e-05, 'epoch': 0.78}\n",
      "{'loss': 1.0938, 'learning_rate': 6.506610995128741e-06, 'epoch': 0.87}\n",
      "{'loss': 1.0891, 'learning_rate': 2.1572720946416146e-06, 'epoch': 0.96}\n"
     ]
    },
    {
     "data": {
      "application/vnd.jupyter.widget-view+json": {
       "model_id": "bb808eee84a64787a6325df5e682728d",
       "version_major": 2,
       "version_minor": 0
      },
      "text/plain": [
       "  0%|          | 0/1437 [00:00<?, ?it/s]"
      ]
     },
     "metadata": {},
     "output_type": "display_data"
    },
    {
     "name": "stdout",
     "output_type": "stream",
     "text": [
      "{'eval_loss': 1.088136076927185, 'eval_accuracy': 0.37795755045233126, 'eval_runtime': 1655.6572, 'eval_samples_per_second': 6.943, 'eval_steps_per_second': 0.868, 'epoch': 1.0}\n",
      "{'train_runtime': 23099.2482, 'train_samples_per_second': 1.991, 'train_steps_per_second': 0.249, 'train_loss': 1.097205409592195, 'epoch': 1.0}\n"
     ]
    },
    {
     "data": {
      "text/plain": [
       "TrainOutput(global_step=5748, training_loss=1.097205409592195, metrics={'train_runtime': 23099.2482, 'train_samples_per_second': 1.991, 'train_steps_per_second': 0.249, 'train_loss': 1.097205409592195, 'epoch': 1.0})"
      ]
     },
     "execution_count": 16,
     "metadata": {},
     "output_type": "execute_result"
    }
   ],
   "source": [
    "trainer = Trainer(\n",
    "    model=model,\n",
    "    train_dataset=train_data,\n",
    "    eval_dataset=val_data,\n",
    "    args=training_args,\n",
    "    compute_metrics=compute_metrics\n",
    ")\n",
    "trainer.train()"
   ]
  },
  {
   "cell_type": "code",
   "execution_count": 17,
   "id": "2227db1f",
   "metadata": {},
   "outputs": [],
   "source": [
    "def predict(data, model):\n",
    "    model.eval()\n",
    "\n",
    "    yhats = np.array([[1, 1, 1]])\n",
    "\n",
    "    with torch.no_grad():\n",
    "        for samples in data:\n",
    "            outputs = model(torch.tensor(samples['input_ids'])).logits.cpu()\n",
    "            outputs = torch.nn.functional.softmax(outputs, dim=1).numpy()\n",
    "            yhats = np.concatenate((yhats, outputs))\n",
    "\n",
    "    return np.delete(yhats, 0, 0)"
   ]
  },
  {
   "cell_type": "code",
   "execution_count": 18,
   "id": "c9719ed9",
   "metadata": {},
   "outputs": [],
   "source": [
    "yhat_train = predict(train_data, model)"
   ]
  },
  {
   "cell_type": "code",
   "execution_count": 19,
   "id": "bb683346",
   "metadata": {},
   "outputs": [
    {
     "data": {
      "text/plain": [
       "0.35625584480546313"
      ]
     },
     "execution_count": 19,
     "metadata": {},
     "output_type": "execute_result"
    }
   ],
   "source": [
    "accuracy_score(np.array(train_data[\"label\"]), np.argmax(yhat_train, axis=1))"
   ]
  },
  {
   "cell_type": "code",
   "execution_count": 20,
   "id": "d4fb822e",
   "metadata": {},
   "outputs": [
    {
     "name": "stderr",
     "output_type": "stream",
     "text": [
      "c:\\Users\\70p6229\\computer_vision\\examples\\pytorch\\.venv\\lib\\site-packages\\sklearn\\metrics\\_classification.py:3001: UserWarning: The y_pred values do not sum to one. Make sure to pass probabilities.\n",
      "  warnings.warn(\n"
     ]
    },
    {
     "data": {
      "text/plain": [
       "1.0959395457759566"
      ]
     },
     "execution_count": 20,
     "metadata": {},
     "output_type": "execute_result"
    }
   ],
   "source": [
    "log_loss(np.array(train_data[\"label\"]), yhat_train)"
   ]
  },
  {
   "cell_type": "code",
   "execution_count": 21,
   "id": "c3615568",
   "metadata": {},
   "outputs": [],
   "source": [
    "yhat_val = predict(val_data, model)"
   ]
  },
  {
   "cell_type": "code",
   "execution_count": 22,
   "id": "5605b910",
   "metadata": {},
   "outputs": [
    {
     "data": {
      "text/plain": [
       "0.351687543493389"
      ]
     },
     "execution_count": 22,
     "metadata": {},
     "output_type": "execute_result"
    }
   ],
   "source": [
    "accuracy_score(np.array(val_data[\"label\"]), np.argmax(yhat_val, axis=1))"
   ]
  },
  {
   "cell_type": "code",
   "execution_count": 23,
   "id": "a7ef2cc0",
   "metadata": {},
   "outputs": [
    {
     "name": "stderr",
     "output_type": "stream",
     "text": [
      "c:\\Users\\70p6229\\computer_vision\\examples\\pytorch\\.venv\\lib\\site-packages\\sklearn\\metrics\\_classification.py:3001: UserWarning: The y_pred values do not sum to one. Make sure to pass probabilities.\n",
      "  warnings.warn(\n"
     ]
    },
    {
     "data": {
      "text/plain": [
       "1.099352674351887"
      ]
     },
     "execution_count": 23,
     "metadata": {},
     "output_type": "execute_result"
    }
   ],
   "source": [
    "log_loss(np.array(val_data[\"label\"]), yhat_val)"
   ]
  }
 ],
 "metadata": {
  "kernelspec": {
   "display_name": ".venv",
   "language": "python",
   "name": "python3"
  },
  "language_info": {
   "codemirror_mode": {
    "name": "ipython",
    "version": 3
   },
   "file_extension": ".py",
   "mimetype": "text/x-python",
   "name": "python",
   "nbconvert_exporter": "python",
   "pygments_lexer": "ipython3",
   "version": "3.10.11"
  }
 },
 "nbformat": 4,
 "nbformat_minor": 5
}
